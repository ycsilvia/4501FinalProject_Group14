{
 "cells": [
  {
   "cell_type": "markdown",
   "id": "32f8ca24",
   "metadata": {
    "id": "32f8ca24"
   },
   "source": [
    "# Understanding Hired Rides in NYC\n",
    "\n",
    "_[Project prompt](https://docs.google.com/document/d/1VERPjEZcC1XSs4-02aM-DbkNr_yaJVbFjLJxaYQswqA/edit#)_\n"
   ]
  },
  {
   "cell_type": "markdown",
   "id": "2f75fd94",
   "metadata": {
    "id": "2f75fd94"
   },
   "source": [
    "## Project Setup"
   ]
  },
  {
   "cell_type": "code",
   "execution_count": 1,
   "id": "GFafiViVRYcu",
   "metadata": {
    "colab": {
     "base_uri": "https://localhost:8080/"
    },
    "id": "GFafiViVRYcu",
    "outputId": "971effd7-96bf-4997-d2c1-6abb718ecf53"
   },
   "outputs": [
    {
     "data": {
      "text/plain": [
       "'!pip install pyarrow\\n!pip install fastparquet\\n!pip install geopandas\\n!pip install pytest\\n!pip install keplergl\\n!pip install bs4'"
      ]
     },
     "execution_count": 1,
     "metadata": {},
     "output_type": "execute_result"
    }
   ],
   "source": [
    "# install needed libraries\n",
    "\"\"\"!pip install pyarrow\n",
    "!pip install fastparquet\n",
    "!pip install geopandas\n",
    "!pip install pytest\n",
    "!pip install keplergl\n",
    "!pip install bs4\"\"\""
   ]
  },
  {
   "cell_type": "code",
   "execution_count": 1,
   "id": "66dcde05",
   "metadata": {
    "id": "66dcde05"
   },
   "outputs": [],
   "source": [
    "# all import statements needed for the project, for example:\n",
    "import math\n",
    "import bs4\n",
    "import matplotlib.pyplot as plt\n",
    "import pandas as pd\n",
    "import geopandas as gpd\n",
    "import requests\n",
    "import sqlalchemy as db\n",
    "import sqlite3\n",
    "import numpy as np\n",
    "import matplotlib.animation as animation\n",
    "import keplergl\n",
    "from keplergl import KeplerGl\n",
    "import statistics\n",
    "import unittest"
   ]
  },
  {
   "cell_type": "code",
   "execution_count": 2,
   "id": "3f1242c4",
   "metadata": {
    "id": "3f1242c4"
   },
   "outputs": [],
   "source": [
    "# any constants you might need, for example:\n",
    "TAXI_URL = \"https://www1.nyc.gov/site/tlc/about/tlc-trip-record-data.page\"\n",
    "# add other constants to refer to any local data, e.g. uber & weather\n",
    "UBER_CSV = \"uber_rides_sample.csv\"\n",
    "NEW_YORK_BOX_COORDS = ((40.560445, -74.242330), (40.908524, -73.717047))\n",
    "DATABASE_URL = \"sqlite:///project.db\"\n",
    "DATABASE_SCHEMA_FILE = \"schema.sql\"\n",
    "QUERY_DIRECTORY = \"queries\""
   ]
  },
  {
   "cell_type": "markdown",
   "id": "26ad10ea",
   "metadata": {
    "id": "26ad10ea"
   },
   "source": [
    "## Part 1: Data Preprocessing"
   ]
  },
  {
   "cell_type": "markdown",
   "id": "32074561",
   "metadata": {
    "id": "32074561"
   },
   "source": [
    "### Calculating distance\n",
    "_**TODO:** Since we do not have trip distance information in our data, we need to calculate the distance from the latitude and longitude information of the pickup and dropoff locations. Here we use functions to complete the calculation and add the resulting trip distances to the dataframe._"
   ]
  },
  {
   "cell_type": "code",
   "execution_count": 4,
   "id": "4cbbe6cc",
   "metadata": {
    "id": "4cbbe6cc"
   },
   "outputs": [],
   "source": [
    "# Calculate the distance between the two coordinates\n",
    "def calculate_distance(from_coord: list, to_coord: list) -> float:\n",
    "    R = 6373.0\n",
    "    lat1 = math.radians(from_coord[0])\n",
    "    lon1 = math.radians(from_coord[1])\n",
    "    lat2 = math.radians(to_coord[0])\n",
    "    lon2 = math.radians(to_coord[1])\n",
    "    dlon = lon2 - lon1\n",
    "    dlat = lat2 - lat1\n",
    "    a = math.sin(dlat / 2)**2 + math.cos(lat1) * math.cos(lat2) * math.sin(dlon / 2)**2\n",
    "    c = 2 * math.atan2(math.sqrt(a), math.sqrt(1 - a))\n",
    "    distance = R * c\n",
    "    return distance"
   ]
  },
  {
   "cell_type": "code",
   "execution_count": 5,
   "id": "a0095630",
   "metadata": {},
   "outputs": [],
   "source": [
    "# unit test of calculate_distance function\n",
    "def test_calculate_distance():\n",
    "    # test basic functionality\n",
    "    assert calculate_distance((40.560445, -74.242330),(40.908524, -73.717047)) == 58.8135468911925"
   ]
  },
  {
   "cell_type": "code",
   "execution_count": 6,
   "id": "34fb7933",
   "metadata": {},
   "outputs": [],
   "source": [
    "test_calculate_distance()"
   ]
  },
  {
   "cell_type": "code",
   "execution_count": 6,
   "id": "6d6abf52",
   "metadata": {
    "id": "6d6abf52"
   },
   "outputs": [],
   "source": [
    "# For the dataset that is not given the trip distance, calculate the distance using the given coordinate data and add it to the dataframe\n",
    "def add_distance_column(dataframe: pd.core.frame.DataFrame) -> pd.core.frame.DataFrame:\n",
    "    distance = []\n",
    "    for index, row in dataframe.iterrows():\n",
    "        distance.append(calculate_distance((row['pickup_latitude'], row['pickup_longitude']), (row['dropoff_latitude'], row['dropoff_longitude'])))\n",
    "    dataframe['trip_distance'] = distance\n",
    "    return dataframe"
   ]
  },
  {
   "cell_type": "code",
   "execution_count": 7,
   "id": "0bf8598a",
   "metadata": {},
   "outputs": [],
   "source": [
    "# unit test of add_distance_column function\n",
    "def test_add_col():\n",
    "    df = pd.DataFrame(\n",
    "                    [[-74.242330, 40.560445, -73.717047, 40.908524]],\n",
    "                    index=['1'],\n",
    "                    columns=['pickup_longitude', 'pickup_latitude', 'dropoff_longitude', 'dropoff_latitude'])\n",
    "    # expected\n",
    "    df_expected = pd.DataFrame(\n",
    "                       [[-74.242330, 40.560445, -73.717047, 40.908524, calculate_distance((40.560445, -74.242330),(40.908524, -73.717047))]],\n",
    "                       index=['1'],\n",
    "                       columns=['pickup_longitude', 'pickup_latitude', 'dropoff_longitude', 'dropoff_latitude','trip_distance'])\n",
    "    # test the result\n",
    "    assert add_distance_column(df).equals(df_expected)"
   ]
  },
  {
   "cell_type": "code",
   "execution_count": 9,
   "id": "1e0dd119",
   "metadata": {},
   "outputs": [],
   "source": [
    "test_add_col()"
   ]
  },
  {
   "cell_type": "markdown",
   "id": "93daa717",
   "metadata": {
    "id": "93daa717"
   },
   "source": [
    "### Processing Taxi Data\n",
    "\n",
    "_**TODO:** Use Beautiful Soup to get the required taxi data links from the New York government data website (https://www.nyc.gov/site/tlc/about/tlc-trip-record-data.page), read the data and convert the data into the same format._"
   ]
  },
  {
   "cell_type": "code",
   "execution_count": 14,
   "id": "cbd0d198",
   "metadata": {
    "id": "cbd0d198"
   },
   "outputs": [],
   "source": [
    "# get taxi data from the website and generate a list of urls\n",
    "def find_taxi_parquet_urls() -> list:\n",
    "    response = requests.get(TAXI_URL)\n",
    "    soup = bs4.BeautifulSoup(response.text, \"html.parser\")\n",
    "    links = soup.find_all(lambda tag:'title' in tag.attrs and tag.attrs['title'] == \"Yellow Taxi Trip Records\")\n",
    "    hrefs = [link.get('href') for link in links]\n",
    "    # Filter the links based on the desired years (2009 to 2015)\n",
    "    hrefs_filtered = [href for href in hrefs \n",
    "                  if any(year in href for year in map(str, range(2009, 2015)))\n",
    "                  or (any(f\"2015-{month:02}\" in href for month in range(1, 7)))]\n",
    "    return hrefs_filtered"
   ]
  },
  {
   "cell_type": "code",
   "execution_count": 11,
   "id": "5f90831b",
   "metadata": {},
   "outputs": [],
   "source": [
    "# unit test of find_taxi_parquet_urls function\n",
    "def test_find_taxi_parquet_urls():\n",
    "    # test basic functionality\n",
    "    assert find_taxi_parquet_urls() == ['https://d37ci6vzurychx.cloudfront.net/trip-data/yellow_tripdata_2009-01.parquet',\n",
    " 'https://d37ci6vzurychx.cloudfront.net/trip-data/yellow_tripdata_2009-02.parquet',\n",
    " 'https://d37ci6vzurychx.cloudfront.net/trip-data/yellow_tripdata_2009-03.parquet',\n",
    " 'https://d37ci6vzurychx.cloudfront.net/trip-data/yellow_tripdata_2009-04.parquet',\n",
    " 'https://d37ci6vzurychx.cloudfront.net/trip-data/yellow_tripdata_2009-05.parquet',\n",
    " 'https://d37ci6vzurychx.cloudfront.net/trip-data/yellow_tripdata_2009-06.parquet',\n",
    " 'https://d37ci6vzurychx.cloudfront.net/trip-data/yellow_tripdata_2009-07.parquet',\n",
    " 'https://d37ci6vzurychx.cloudfront.net/trip-data/yellow_tripdata_2009-08.parquet',\n",
    " 'https://d37ci6vzurychx.cloudfront.net/trip-data/yellow_tripdata_2009-09.parquet',\n",
    " 'https://d37ci6vzurychx.cloudfront.net/trip-data/yellow_tripdata_2009-10.parquet',\n",
    " 'https://d37ci6vzurychx.cloudfront.net/trip-data/yellow_tripdata_2009-11.parquet',\n",
    " 'https://d37ci6vzurychx.cloudfront.net/trip-data/yellow_tripdata_2009-12.parquet',\n",
    " 'https://d37ci6vzurychx.cloudfront.net/trip-data/yellow_tripdata_2010-01.parquet',\n",
    " 'https://d37ci6vzurychx.cloudfront.net/trip-data/yellow_tripdata_2010-02.parquet',\n",
    " 'https://d37ci6vzurychx.cloudfront.net/trip-data/yellow_tripdata_2010-03.parquet',\n",
    " 'https://d37ci6vzurychx.cloudfront.net/trip-data/yellow_tripdata_2010-04.parquet',\n",
    " 'https://d37ci6vzurychx.cloudfront.net/trip-data/yellow_tripdata_2010-05.parquet',\n",
    " 'https://d37ci6vzurychx.cloudfront.net/trip-data/yellow_tripdata_2010-06.parquet',\n",
    " 'https://d37ci6vzurychx.cloudfront.net/trip-data/yellow_tripdata_2010-07.parquet',\n",
    " 'https://d37ci6vzurychx.cloudfront.net/trip-data/yellow_tripdata_2010-08.parquet',\n",
    " 'https://d37ci6vzurychx.cloudfront.net/trip-data/yellow_tripdata_2010-09.parquet',\n",
    " 'https://d37ci6vzurychx.cloudfront.net/trip-data/yellow_tripdata_2010-10.parquet',\n",
    " 'https://d37ci6vzurychx.cloudfront.net/trip-data/yellow_tripdata_2010-11.parquet',\n",
    " 'https://d37ci6vzurychx.cloudfront.net/trip-data/yellow_tripdata_2010-12.parquet',\n",
    " 'https://d37ci6vzurychx.cloudfront.net/trip-data/yellow_tripdata_2011-01.parquet',\n",
    " 'https://d37ci6vzurychx.cloudfront.net/trip-data/yellow_tripdata_2011-02.parquet',\n",
    " 'https://d37ci6vzurychx.cloudfront.net/trip-data/yellow_tripdata_2011-03.parquet',\n",
    " 'https://d37ci6vzurychx.cloudfront.net/trip-data/yellow_tripdata_2011-04.parquet',\n",
    " 'https://d37ci6vzurychx.cloudfront.net/trip-data/yellow_tripdata_2011-05.parquet',\n",
    " 'https://d37ci6vzurychx.cloudfront.net/trip-data/yellow_tripdata_2011-06.parquet',\n",
    " 'https://d37ci6vzurychx.cloudfront.net/trip-data/yellow_tripdata_2011-07.parquet',\n",
    " 'https://d37ci6vzurychx.cloudfront.net/trip-data/yellow_tripdata_2011-08.parquet',\n",
    " 'https://d37ci6vzurychx.cloudfront.net/trip-data/yellow_tripdata_2011-09.parquet',\n",
    " 'https://d37ci6vzurychx.cloudfront.net/trip-data/yellow_tripdata_2011-10.parquet',\n",
    " 'https://d37ci6vzurychx.cloudfront.net/trip-data/yellow_tripdata_2011-11.parquet',\n",
    " 'https://d37ci6vzurychx.cloudfront.net/trip-data/yellow_tripdata_2011-12.parquet',\n",
    " 'https://d37ci6vzurychx.cloudfront.net/trip-data/yellow_tripdata_2012-01.parquet',\n",
    " 'https://d37ci6vzurychx.cloudfront.net/trip-data/yellow_tripdata_2012-02.parquet',\n",
    " 'https://d37ci6vzurychx.cloudfront.net/trip-data/yellow_tripdata_2012-03.parquet',\n",
    " 'https://d37ci6vzurychx.cloudfront.net/trip-data/yellow_tripdata_2012-04.parquet',\n",
    " 'https://d37ci6vzurychx.cloudfront.net/trip-data/yellow_tripdata_2012-05.parquet',\n",
    " 'https://d37ci6vzurychx.cloudfront.net/trip-data/yellow_tripdata_2012-06.parquet',\n",
    " 'https://d37ci6vzurychx.cloudfront.net/trip-data/yellow_tripdata_2012-07.parquet',\n",
    " 'https://d37ci6vzurychx.cloudfront.net/trip-data/yellow_tripdata_2012-08.parquet',\n",
    " 'https://d37ci6vzurychx.cloudfront.net/trip-data/yellow_tripdata_2012-09.parquet',\n",
    " 'https://d37ci6vzurychx.cloudfront.net/trip-data/yellow_tripdata_2012-10.parquet',\n",
    " 'https://d37ci6vzurychx.cloudfront.net/trip-data/yellow_tripdata_2012-11.parquet',\n",
    " 'https://d37ci6vzurychx.cloudfront.net/trip-data/yellow_tripdata_2012-12.parquet',\n",
    " 'https://d37ci6vzurychx.cloudfront.net/trip-data/yellow_tripdata_2013-01.parquet',\n",
    " 'https://d37ci6vzurychx.cloudfront.net/trip-data/yellow_tripdata_2013-02.parquet',\n",
    " 'https://d37ci6vzurychx.cloudfront.net/trip-data/yellow_tripdata_2013-03.parquet',\n",
    " 'https://d37ci6vzurychx.cloudfront.net/trip-data/yellow_tripdata_2013-04.parquet',\n",
    " 'https://d37ci6vzurychx.cloudfront.net/trip-data/yellow_tripdata_2013-05.parquet',\n",
    " 'https://d37ci6vzurychx.cloudfront.net/trip-data/yellow_tripdata_2013-06.parquet',\n",
    " 'https://d37ci6vzurychx.cloudfront.net/trip-data/yellow_tripdata_2013-07.parquet',\n",
    " 'https://d37ci6vzurychx.cloudfront.net/trip-data/yellow_tripdata_2013-08.parquet',\n",
    " 'https://d37ci6vzurychx.cloudfront.net/trip-data/yellow_tripdata_2013-09.parquet',\n",
    " 'https://d37ci6vzurychx.cloudfront.net/trip-data/yellow_tripdata_2013-10.parquet',\n",
    " 'https://d37ci6vzurychx.cloudfront.net/trip-data/yellow_tripdata_2013-11.parquet',\n",
    " 'https://d37ci6vzurychx.cloudfront.net/trip-data/yellow_tripdata_2013-12.parquet',\n",
    " 'https://d37ci6vzurychx.cloudfront.net/trip-data/yellow_tripdata_2014-01.parquet',\n",
    " 'https://d37ci6vzurychx.cloudfront.net/trip-data/yellow_tripdata_2014-02.parquet',\n",
    " 'https://d37ci6vzurychx.cloudfront.net/trip-data/yellow_tripdata_2014-03.parquet',\n",
    " 'https://d37ci6vzurychx.cloudfront.net/trip-data/yellow_tripdata_2014-04.parquet',\n",
    " 'https://d37ci6vzurychx.cloudfront.net/trip-data/yellow_tripdata_2014-05.parquet',\n",
    " 'https://d37ci6vzurychx.cloudfront.net/trip-data/yellow_tripdata_2014-06.parquet',\n",
    " 'https://d37ci6vzurychx.cloudfront.net/trip-data/yellow_tripdata_2014-07.parquet',\n",
    " 'https://d37ci6vzurychx.cloudfront.net/trip-data/yellow_tripdata_2014-08.parquet',\n",
    " 'https://d37ci6vzurychx.cloudfront.net/trip-data/yellow_tripdata_2014-09.parquet',\n",
    " 'https://d37ci6vzurychx.cloudfront.net/trip-data/yellow_tripdata_2014-10.parquet',\n",
    " 'https://d37ci6vzurychx.cloudfront.net/trip-data/yellow_tripdata_2014-11.parquet',\n",
    " 'https://d37ci6vzurychx.cloudfront.net/trip-data/yellow_tripdata_2014-12.parquet',\n",
    " 'https://d37ci6vzurychx.cloudfront.net/trip-data/yellow_tripdata_2015-01.parquet',\n",
    " 'https://d37ci6vzurychx.cloudfront.net/trip-data/yellow_tripdata_2015-02.parquet',\n",
    " 'https://d37ci6vzurychx.cloudfront.net/trip-data/yellow_tripdata_2015-03.parquet',\n",
    " 'https://d37ci6vzurychx.cloudfront.net/trip-data/yellow_tripdata_2015-04.parquet',\n",
    " 'https://d37ci6vzurychx.cloudfront.net/trip-data/yellow_tripdata_2015-05.parquet',\n",
    " 'https://d37ci6vzurychx.cloudfront.net/trip-data/yellow_tripdata_2015-06.parquet']"
   ]
  },
  {
   "cell_type": "code",
   "execution_count": 12,
   "id": "41c4c644",
   "metadata": {},
   "outputs": [],
   "source": [
    "test_find_taxi_parquet_urls()"
   ]
  },
  {
   "cell_type": "code",
   "execution_count": 13,
   "id": "GtxHDPSZ5Ejd",
   "metadata": {
    "id": "GtxHDPSZ5Ejd"
   },
   "outputs": [],
   "source": [
    "# Define a function that converts location to coordinates, and generate a dataframe\n",
    "def convert_id_to_coord(df: pd.core.frame.DataFrame) -> pd.core.frame.DataFrame:\n",
    "    shapefile = gpd.read_file(r\"C:\\Users\\Silvia\\Documents\\GitHub\\4501FinalProject_Group14\\taxi_zones\\taxi_zones.shp\")\n",
    "    # Convert the geometry column in the shapefile into specific coordinates of latitude and longitude\n",
    "    shapefile = shapefile.to_crs(4326)\n",
    "    shapefile['latitude'] = shapefile['geometry'].centroid.y\n",
    "    shapefile['longitude'] = shapefile['geometry'].centroid.x\n",
    "    \n",
    "    df = df\n",
    "    df = df.loc[df[\"pulocationid\"] <= 263]\n",
    "    df = df.loc[df[\"pulocationid\"] != 0]\n",
    "    df = df.loc[df[\"dolocationid\"] <= 263]\n",
    "    df = df.loc[df[\"dolocationid\"] != 0]\n",
    "    # convert location IDs into longitude and latitude\n",
    "    PUlongitude = []\n",
    "    PUlatitude = []\n",
    "    DOlongitude = []\n",
    "    DOlatitude = []\n",
    "    # convert the pickup location IDs into longitude and latitude\n",
    "    for i in df['pulocationid']:\n",
    "        PUlatitude.append(shapefile['latitude'][i-1])\n",
    "        PUlongitude.append(shapefile['longitude'][i-1])\n",
    "    for i in df['dolocationid']:\n",
    "        DOlatitude.append(shapefile['latitude'][i-1])\n",
    "        DOlongitude.append(shapefile['longitude'][i-1])\n",
    "        \n",
    "    df['pickup_longitude'] = PUlongitude\n",
    "    df['pickup_latitude'] = PUlatitude\n",
    "    df['dropoff_longitude'] = DOlongitude\n",
    "    df['dropoff_latitude'] = DOlatitude\n",
    "    # convert the drop off location IDs into longitude and latitude\n",
    "    \n",
    "    return df"
   ]
  },
  {
   "cell_type": "code",
   "execution_count": 14,
   "id": "ea05e626",
   "metadata": {},
   "outputs": [],
   "source": [
    "# unit test of convert_id_to_coord function\n",
    "def test_convert_id_to_coord():\n",
    "    df = pd.DataFrame(\n",
    "                    [[164, 4]],\n",
    "                    index=['1'],\n",
    "                    columns=['pulocationid', 'dolocationid'])\n",
    "    df_expected = pd.DataFrame(\n",
    "                    [[164, 4, -73.95682460583805,40.620924048746254, -73.976968, 40.723752]],\n",
    "                    index=['1'],\n",
    "                    columns=['pulocationid', 'dolocationid', 'pickup_longitude','pickup_latitude','dropoff_longitude','dropoff_latitude'])"
   ]
  },
  {
   "cell_type": "code",
   "execution_count": 15,
   "id": "c0c58974",
   "metadata": {},
   "outputs": [],
   "source": [
    "test_convert_id_to_coord()"
   ]
  },
  {
   "cell_type": "code",
   "execution_count": 16,
   "id": "lqS5XC4CUZhV",
   "metadata": {
    "id": "lqS5XC4CUZhV"
   },
   "outputs": [],
   "source": [
    "# Obtain taxi data and clean the data\n",
    "def get_and_clean_month_taxi_data(url: str) -> pd.core.frame.DataFrame:\n",
    "\n",
    "    df = pd.read_parquet(url)\n",
    "    df.columns = df.columns.str.lower()\n",
    "    df_taxi = pd.DataFrame()\n",
    "\n",
    "    # keep necessary columns into a new dataframe\n",
    "    if 'tpep_pickup_datetime' in df.columns:\n",
    "        df=df.rename(columns = {'tpep_pickup_datetime':'pickup_datetime',\n",
    "                                'tip_amount' : 'tip_amount'})\n",
    "        df=convert_id_to_coord(df)\n",
    "        \n",
    "    elif 'trip_pickup_datetime' in df.columns:\n",
    "        df=df.rename(columns = {'trip_pickup_datetime':'pickup_datetime', \n",
    "                                'start_lon': 'pickup_longitude',\n",
    "                                'start_lat': 'pickup_latitude',\n",
    "                                'end_lon': 'dropoff_longitude',\n",
    "                                'end_lat': 'dropoff_latitude',\n",
    "                                'tip_amt' : 'tip_amount'})\n",
    "        \n",
    "    df.drop(df.columns.difference(['pickup_datetime',\n",
    "                                    'trip_distance', \n",
    "                                    'pickup_latitude', \n",
    "                                    'pickup_longitude', \n",
    "                                    'dropoff_latitude', \n",
    "                                    'dropoff_longitude',\n",
    "                                   'tip_amount']), 1, inplace=True)\n",
    "    \n",
    "    df=df[df[\"pickup_longitude\"] <= -73.717047]  \n",
    "    df=df[df[\"pickup_longitude\"] >= -74.242330]\n",
    "    df=df[df[\"pickup_latitude\"] >= 40.560445]\n",
    "    df=df[df[\"pickup_latitude\"] <= 40.908524]\n",
    "    df=df[df[\"dropoff_longitude\"] <= -73.717047]\n",
    "    df=df[df[\"dropoff_longitude\"] >= -74.242330]\n",
    "    df=df[df[\"dropoff_latitude\"] >= 40.560445]\n",
    "    df=df[df[\"dropoff_latitude\"] <= 40.908524]\n",
    "\n",
    "    df = df.loc[df[\"pickup_datetime\"] != 0.0]\n",
    "    \n",
    "    return df"
   ]
  },
  {
   "cell_type": "code",
   "execution_count": 17,
   "id": "a280e932",
   "metadata": {},
   "outputs": [],
   "source": [
    "# unit test of get_and_clean_month_taxi_data function\n",
    "def test_get_and_clean_month_taxi_data():\n",
    "    df = get_and_clean_month_taxi_data(url = 'https://d37ci6vzurychx.cloudfront.net/trip-data/yellow_tripdata_2015-01.parquet')\n",
    "\n",
    "    assert df.notnull().values.any() == True\n",
    "    assert list(df.columns) == ['pickup_datetime','trip_distance','tip_amount','pickup_longitude','pickup_latitude','dropoff_longitude','dropoff_latitude']\n",
    "    assert df.dtypes['pickup_datetime'] == 'datetime64[ns]'"
   ]
  },
  {
   "cell_type": "code",
   "execution_count": 18,
   "id": "67b97b03",
   "metadata": {},
   "outputs": [
    {
     "name": "stderr",
     "output_type": "stream",
     "text": [
      "C:\\Users\\Silvia\\AppData\\Local\\Temp\\ipykernel_2664\\4189018635.py:6: UserWarning: Geometry is in a geographic CRS. Results from 'centroid' are likely incorrect. Use 'GeoSeries.to_crs()' to re-project geometries to a projected CRS before this operation.\n",
      "\n",
      "  shapefile['latitude'] = shapefile['geometry'].centroid.y\n",
      "C:\\Users\\Silvia\\AppData\\Local\\Temp\\ipykernel_2664\\4189018635.py:7: UserWarning: Geometry is in a geographic CRS. Results from 'centroid' are likely incorrect. Use 'GeoSeries.to_crs()' to re-project geometries to a projected CRS before this operation.\n",
      "\n",
      "  shapefile['longitude'] = shapefile['geometry'].centroid.x\n"
     ]
    }
   ],
   "source": [
    "test_get_and_clean_month_taxi_data()"
   ]
  },
  {
   "cell_type": "markdown",
   "id": "094b4d6d",
   "metadata": {
    "id": "094b4d6d"
   },
   "source": [
    "### Processing Uber Data\n",
    "\n",
    "_**TODO:** Read uber's trip data and process it._"
   ]
  },
  {
   "cell_type": "code",
   "execution_count": null,
   "id": "7c58e3a2",
   "metadata": {
    "id": "7c58e3a2"
   },
   "outputs": [],
   "source": [
    "# load uber data and clean the data\n",
    "def load_and_clean_uber_data(csv_file: str) -> pd.core.frame.DataFrame:\n",
    "    df = pd.read_csv(csv_file, on_bad_lines='skip')\n",
    "    df.columns = df.columns.str.lower()\n",
    "    add_distance_column(df)\n",
    "    df.drop(df.columns.difference(['pickup_datetime',\n",
    "                                     'trip_distance', \n",
    "                                     'pickup_latitude', \n",
    "                                     'pickup_longitude', \n",
    "                                     'dropoff_latitude', \n",
    "                                     'dropoff_longitude']), 1, inplace=True)\n",
    "\n",
    "    # remove rows start and/or end outside of the following latitude/longitude coordinate box: \n",
    "    # (40.560445, -74.242330) and (40.908524, -73.717047)\n",
    "    df=df[df[\"pickup_longitude\"] <= -73.717047]  \n",
    "    df=df[df[\"pickup_longitude\"] >= -74.242330]\n",
    "    df=df[df[\"pickup_latitude\"] >= 40.560445]\n",
    "    df=df[df[\"pickup_latitude\"] <= 40.908524]\n",
    "    df=df[df[\"dropoff_longitude\"] <= -73.717047]\n",
    "    df=df[df[\"dropoff_longitude\"] >= -74.242330]\n",
    "    df=df[df[\"dropoff_latitude\"] >= 40.560445]\n",
    "    df=df[df[\"dropoff_latitude\"] <= 40.908524]\n",
    "\n",
    "    # remove invalid rows thtat pickup time is 0\n",
    "    df = df.loc[df[\"pickup_datetime\"] != 0.0]\n",
    "\n",
    "    df['pickup_datetime'] = pd.to_datetime(df['pickup_datetime'])\n",
    "\n",
    "    return df"
   ]
  },
  {
   "cell_type": "code",
   "execution_count": null,
   "id": "0a8baf36",
   "metadata": {},
   "outputs": [],
   "source": [
    "# unit test of load_and_clean_uber_data function\n",
    "def test_load_and_clean_uber_data():\n",
    "        df = load_and_clean_uber_data(r\"C:\\Users\\Silvia\\Downloads\\uber_rides_sample.csv\")\n",
    "        assert list(df.columns) == ['pickup_datetime', 'pickup_longitude', 'pickup_latitude', 'dropoff_longitude', 'dropoff_latitude', 'trip_distance']\n",
    "        assert df.shape == (195472, 6)"
   ]
  },
  {
   "cell_type": "code",
   "execution_count": null,
   "id": "6b08845a",
   "metadata": {},
   "outputs": [],
   "source": [
    "test_load_and_clean_uber_data()"
   ]
  },
  {
   "cell_type": "markdown",
   "id": "zK96TZQrW2pS",
   "metadata": {
    "id": "zK96TZQrW2pS"
   },
   "source": [
    "Sampling the taxi data according to the number of uber trips each month"
   ]
  },
  {
   "cell_type": "code",
   "execution_count": null,
   "id": "ZoZgjuDpVzxk",
   "metadata": {
    "id": "ZoZgjuDpVzxk"
   },
   "outputs": [],
   "source": [
    "# Get the number of uber data per month\n",
    "def get_number_to_sample() -> int:\n",
    "    uber = load_and_clean_uber_data(r\"C:\\Users\\Silvia\\Downloads\\uber_rides_sample.csv\")\n",
    "    uber.index = pd.to_datetime(uber['pickup_datetime'])\n",
    "    number_each_month = uber.groupby(by=[uber.index.year, uber.index.month]).size()\n",
    "    number = []\n",
    "    for i in range(2009,2015):\n",
    "        for j in range(1,13):\n",
    "            number.append(number_each_month[i][j])\n",
    "    for i in range(1,7):\n",
    "        number.append(number_each_month[2015][i])\n",
    "    return number"
   ]
  },
  {
   "cell_type": "code",
   "execution_count": null,
   "id": "b0e63f0c",
   "metadata": {},
   "outputs": [],
   "source": [
    "# unit test of get_number_to_sample function\n",
    "def test_get_number_to_sample():\n",
    "      assert len(get_number_to_sample()) == 78"
   ]
  },
  {
   "cell_type": "code",
   "execution_count": null,
   "id": "c095ea87",
   "metadata": {},
   "outputs": [
    {
     "name": "stderr",
     "output_type": "stream",
     "text": [
      "C:\\Users\\Silvia\\AppData\\Local\\Temp\\ipykernel_19920\\1263730049.py:6: FutureWarning: In a future version of pandas all arguments of DataFrame.drop except for the argument 'labels' will be keyword-only.\n",
      "  df.drop(df.columns.difference(['pickup_datetime',\n"
     ]
    }
   ],
   "source": [
    "number = get_number_to_sample()"
   ]
  },
  {
   "cell_type": "code",
   "execution_count": null,
   "id": "8b53c9b6",
   "metadata": {},
   "outputs": [],
   "source": [
    "def get_sample_taxi_data() -> pd.core.frame.DataFrame:\n",
    "    sample_taxi_dataframes = []\n",
    "    \n",
    "    all_parquet_urls = find_taxi_parquet_urls()\n",
    "    # do the sampling of taxi data according to the number of uber trip each month\n",
    "    for i in range(0, 78): \n",
    "        n = number[i]\n",
    "        url = all_parquet_urls[i]\n",
    "        df = get_and_clean_month_taxi_data(url)\n",
    "        df_sample = df.sample(n)\n",
    "        sample_taxi_dataframes.append(df_sample)\n",
    "\n",
    "    taxi_data = pd.concat(sample_taxi_dataframes)\n",
    "    taxi_data['pickup_datetime'] = pd.to_datetime(taxi_data['pickup_datetime'])\n",
    "    taxi_data = taxi_data.reset_index(drop = True)\n",
    "    return taxi_data"
   ]
  },
  {
   "cell_type": "code",
   "execution_count": null,
   "id": "72ca7489",
   "metadata": {},
   "outputs": [],
   "source": [
    "# unit test of get_sample_taxi_data function\n",
    "def test_get_sample_taxi_data():\n",
    "    df = get_sample_taxi_data()\n",
    "    assert list(df.columns) == ['pickup_datetime', 'pickup_longitude', 'pickup_latitude', 'dropoff_longitude', 'dropoff_latitude', 'trip_distance','tip_amount']\n",
    "    assert df.shape == (195472, 7)\n"
   ]
  },
  {
   "cell_type": "code",
   "execution_count": null,
   "id": "29d432ce",
   "metadata": {},
   "outputs": [],
   "source": [
    "test_get_sample_taxi_data()"
   ]
  },
  {
   "cell_type": "markdown",
   "id": "45a15cbb",
   "metadata": {
    "id": "45a15cbb"
   },
   "source": [
    "### Processing Weather Data\n",
    "\n",
    "_**TODO:** Write some prose that tells the reader what you're about to do here._"
   ]
  },
  {
   "cell_type": "code",
   "execution_count": null,
   "id": "76e864ab",
   "metadata": {
    "id": "76e864ab"
   },
   "outputs": [],
   "source": [
    "def clean_month_weather_data_hourly(csv_file: str) -> pd.core.frame.DataFrame:\n",
    "    # read file\n",
    "    df = pd.read_csv(csv_file)\n",
    "    #drop unnecessary colums\n",
    "    df.drop(df.columns.difference(['DATE',\n",
    "                                   'HourlyPrecipitation', \n",
    "                                   'HourlyWindSpeed']), 1, inplace=True)\n",
    "    df['HourlyPrecipitation'] = df['HourlyPrecipitation'].replace('T', 0.0)\n",
    "    # drop na values\n",
    "    df.dropna(subset=['HourlyWindSpeed'], inplace=True)\n",
    "    # convert \"DATE\" to datetime type\n",
    "    df['DATE'] = pd.to_datetime(df['DATE'])\n",
    "    # convert \"HourlyPrecipitation\" to float type\n",
    "    df['HourlyPrecipitation'] = pd.to_numeric(df['HourlyPrecipitation'], errors='coerce')\n",
    "    # fill in missing values\n",
    "    df['HourlyPrecipitation'].fillna(0, inplace=True)\n",
    "    # cast \"df\" to specified type\n",
    "    df = df.astype({'HourlyWindSpeed': 'float32', 'HourlyPrecipitation': 'float32'})\n",
    "\n",
    "    return df"
   ]
  },
  {
   "cell_type": "code",
   "execution_count": null,
   "id": "c9c20b6b",
   "metadata": {},
   "outputs": [],
   "source": [
    "# unit test of clean_month_weather_data_hourly function\n",
    "def test_clean_month_weather_data_hourly():\n",
    "    df = clean_month_weather_data_hourly(r'C:\\Users\\Silvia\\Downloads\\2009_weather.csv')\n",
    "    assert list(df.columns) == ['DATE', 'HourlyPrecipitation', 'HourlyWindSpeed']\n",
    "    assert df.dtypes['DATE'] == 'datetime64[ns]'\n",
    "    assert df.dtypes['HourlyWindSpeed'] == 'float32'\n",
    "    assert df.dtypes['HourlyPrecipitation'] == 'float32'"
   ]
  },
  {
   "cell_type": "code",
   "execution_count": null,
   "id": "48c72793",
   "metadata": {},
   "outputs": [],
   "source": [
    "test_clean_month_weather_data_hourly()"
   ]
  },
  {
   "cell_type": "code",
   "execution_count": null,
   "id": "0687581f",
   "metadata": {
    "id": "0687581f"
   },
   "outputs": [],
   "source": [
    "def clean_month_weather_data_daily(csv_file: str) -> pd.core.frame.DataFrame:\n",
    "    # read file\n",
    "    df = pd.read_csv(csv_file)\n",
    "    # Replace data of the string type\n",
    "    df['HourlyPrecipitation'] = df['HourlyPrecipitation'].replace('T', 0.0)\n",
    "    # convert \"DATE\" to datetime type\n",
    "    df['DATE'] = pd.to_datetime(df['DATE'])\n",
    "    # convert \"HourlyPrecipitation\" to numeric type\n",
    "    df['HourlyPrecipitation'] = pd.to_numeric(df['HourlyPrecipitation'], errors='coerce')\n",
    "    # convert value of 'na' into 0.0\n",
    "    df['HourlyPrecipitation'].fillna(0, inplace=True)\n",
    "    #drop unnecessary colums\n",
    "    df.drop(df.columns.difference(['DATE',\n",
    "                                   'HourlyPrecipitation', \n",
    "                                   'HourlyWindSpeed']), 1, inplace=True)\n",
    "    # calculate hourly average as a daily values\n",
    "    df['DATE'] = df['DATE'].dt.date\n",
    "    df = df.groupby('DATE', as_index=False).agg({'HourlyWindSpeed': np.mean, 'HourlyPrecipitation': np.mean})\n",
    "    df['HourlyWindSpeed'] = df['HourlyWindSpeed'].map(lambda x: round(x, 2))\n",
    "    # remame columns\n",
    "    df.rename(columns={'HourlyWindSpeed': 'DailyAverageWindSpeed', 'HourlyPrecipitation': 'DailyPrecipitation'}, inplace=True)\n",
    "    df = df.astype({'DailyAverageWindSpeed':'float32', 'DailyPrecipitation':'float32', 'DATE' : 'datetime64[ns]'})\n",
    "\n",
    "    return df"
   ]
  },
  {
   "cell_type": "code",
   "execution_count": null,
   "id": "df8b3efa",
   "metadata": {},
   "outputs": [],
   "source": [
    "# unit test of clean_month_weather_data_daily function\n",
    "def test_clean_month_weather_data_daily():\n",
    "    df = clean_month_weather_data_daily(r'C:\\Users\\Silvia\\Downloads\\2009_weather.csv')\n",
    "    assert list(df.columns) == ['DATE', 'DailyAverageWindSpeed', 'DailyPrecipitation']\n",
    "    assert df.dtypes['DATE'] == 'datetime64[ns]'\n",
    "    assert df.dtypes['DailyAverageWindSpeed'] == 'float32'\n",
    "    assert df.dtypes['DailyPrecipitation'] == 'float32'"
   ]
  },
  {
   "cell_type": "code",
   "execution_count": null,
   "id": "b101b1c3",
   "metadata": {},
   "outputs": [],
   "source": [
    "test_clean_month_weather_data_daily()"
   ]
  },
  {
   "cell_type": "code",
   "execution_count": null,
   "id": "3ef8945d",
   "metadata": {
    "id": "3ef8945d"
   },
   "outputs": [],
   "source": [
    "def load_and_clean_weather_data() -> pd.core.frame.DataFrame:\n",
    "    hourly_dataframes = []\n",
    "    daily_dataframes = []\n",
    "    \n",
    "    # add some way to find all weather CSV files\n",
    "    # or just add the name/paths manually\n",
    "    weather_csv_files = [\n",
    "            r\"C:\\Users\\Silvia\\Downloads\\2009_weather.csv\",\n",
    "            r\"C:\\Users\\Silvia\\Downloads\\2010_weather.csv\",\n",
    "            r\"C:\\Users\\Silvia\\Downloads\\2011_weather.csv\",\n",
    "            r\"C:\\Users\\Silvia\\Downloads\\2012_weather.csv\",\n",
    "            r\"C:\\Users\\Silvia\\Downloads\\2013_weather.csv\",\n",
    "            r\"C:\\Users\\Silvia\\Downloads\\2014_weather.csv\",\n",
    "            r\"C:\\Users\\Silvia\\Downloads\\2015_weather.csv\"\n",
    "        ]\n",
    "    \n",
    "    for csv_file in weather_csv_files:\n",
    "        hourly_dataframe = clean_month_weather_data_hourly(csv_file)\n",
    "        daily_dataframe = clean_month_weather_data_daily(csv_file)\n",
    "        hourly_dataframes.append(hourly_dataframe)\n",
    "        daily_dataframes.append(daily_dataframe)\n",
    "        \n",
    "    # create two dataframes with hourly & daily data from every month\n",
    "    hourly_data = pd.concat(hourly_dataframes)\n",
    "    daily_data = pd.concat(daily_dataframes)\n",
    "    \n",
    "    return hourly_data, daily_data"
   ]
  },
  {
   "cell_type": "code",
   "execution_count": null,
   "id": "87c331a0",
   "metadata": {},
   "outputs": [],
   "source": [
    "# unit test of clean_month_weather_data_daily function\n",
    "def test_load_and_clean_weather_data():\n",
    "    df_hourly_weather, df_daily_weather = load_and_clean_weather_data()\n",
    "    assert list(df_hourly_weather.columns) ==  ['DATE', 'HourlyPrecipitation', 'HourlyWindSpeed']\n",
    "    assert list(df_daily_weather.columns) == ['DATE', 'DailyAverageWindSpeed', 'DailyPrecipitation']"
   ]
  },
  {
   "cell_type": "code",
   "execution_count": null,
   "id": "25c4b84d",
   "metadata": {},
   "outputs": [],
   "source": [
    "test_load_and_clean_weather_data()"
   ]
  },
  {
   "cell_type": "code",
   "execution_count": null,
   "id": "7d8e9fe3",
   "metadata": {},
   "outputs": [],
   "source": [
    "def clean_sunset_sunrise_daily(csv_file: str) -> pd.core.frame.DataFrame:\n",
    "    df = pd.read_csv(csv_file)\n",
    "    df.drop(df.columns.difference(['DATE','Sunset','Sunrise']), 1, inplace=True)\n",
    "    df = df.dropna()\n",
    "    df['DATE'] = pd.to_datetime(df['DATE'])\n",
    "    df = df.astype({'Sunrise': 'int32', 'Sunset': 'int32', 'DATE':'datetime64[ns]' })\n",
    "    return df"
   ]
  },
  {
   "cell_type": "code",
   "execution_count": null,
   "id": "a2200df2",
   "metadata": {},
   "outputs": [],
   "source": [
    "# unit test of clean_sunset_sunrise_daily function\n",
    "def test_clean_sunset_sunrise_daily():\n",
    "    df = clean_sunset_sunrise_daily('2009_weather.csv')\n",
    "    assert list(df.columns) == ['DATE', 'Sunrise', 'Sunset']\n",
    "    assert df.dtypes['DATE'] == 'datetime64[ns]'\n",
    "    assert df.dtypes['Sunrise'] == 'int32'\n",
    "    assert df.dtypes['Sunset'] == 'int32'"
   ]
  },
  {
   "cell_type": "code",
   "execution_count": null,
   "id": "b06422da",
   "metadata": {},
   "outputs": [],
   "source": [
    "test_clean_sunset_sunrise_daily()"
   ]
  },
  {
   "cell_type": "code",
   "execution_count": null,
   "id": "20eb7a29",
   "metadata": {},
   "outputs": [],
   "source": [
    "def load_and_clean_sunrise_sunset_data() -> pd.core.frame.DataFrame:\n",
    "    sunrise_sunset_dataframes =[]\n",
    "    \n",
    "    weather_csv_files = [\n",
    "            r\"C:\\Users\\Silvia\\Downloads\\2009_weather.csv\",\n",
    "            r\"C:\\Users\\Silvia\\Downloads\\2010_weather.csv\",\n",
    "            r\"C:\\Users\\Silvia\\Downloads\\2011_weather.csv\",\n",
    "            r\"C:\\Users\\Silvia\\Downloads\\2012_weather.csv\",\n",
    "            r\"C:\\Users\\Silvia\\Downloads\\2013_weather.csv\",\n",
    "            r\"C:\\Users\\Silvia\\Downloads\\2014_weather.csv\",\n",
    "            r\"C:\\Users\\Silvia\\Downloads\\2015_weather.csv\"\n",
    "        ]\n",
    "    \n",
    "    for csv_file in weather_csv_files:\n",
    "        sunrise_sunset_dataframe = clean_sunset_sunrise_daily(csv_file)\n",
    "        sunrise_sunset_dataframes.append(sunrise_sunset_dataframe)\n",
    "        \n",
    "    sunrise_sunset_data = pd.concat(sunrise_sunset_dataframes)\n",
    "    sunrise_sunset_data['DATE'] = pd.to_datetime(sunrise_sunset_data['DATE'])\n",
    "    sunrise_sunset_data = sunrise_sunset_data.astype({'Sunrise': 'int32', 'Sunset': 'int32'})\n",
    "    \n",
    "    return sunrise_sunset_data"
   ]
  },
  {
   "cell_type": "code",
   "execution_count": null,
   "id": "3413a13a",
   "metadata": {},
   "outputs": [],
   "source": [
    "# unit test of load_and_clean_sunrise_sunset_data function\n",
    "def test_load_and_clean_sunrise_sunset_data():\n",
    "    df_sunrise_sunset = load_and_clean_sunrise_sunset_data()\n",
    "    assert list(df_sunrise_sunset.columns) ==  ['DATE', 'Sunrise', 'Sunset']"
   ]
  },
  {
   "cell_type": "code",
   "execution_count": null,
   "id": "2f119792",
   "metadata": {},
   "outputs": [],
   "source": [
    "test_load_and_clean_sunrise_sunset_data()"
   ]
  },
  {
   "cell_type": "markdown",
   "id": "f900f7aa",
   "metadata": {
    "id": "f900f7aa"
   },
   "source": [
    "### Process All Data\n",
    "\n",
    "_This is where you can actually execute all the required functions._\n",
    "\n",
    "_**TODO:** Write some prose that tells the reader what you're about to do here._"
   ]
  },
  {
   "cell_type": "code",
   "execution_count": null,
   "id": "f7cd53a6",
   "metadata": {
    "id": "f7cd53a6"
   },
   "outputs": [
    {
     "name": "stderr",
     "output_type": "stream",
     "text": [
      "C:\\Users\\Silvia\\AppData\\Local\\Temp\\ipykernel_19920\\1263730049.py:6: FutureWarning: In a future version of pandas all arguments of DataFrame.drop except for the argument 'labels' will be keyword-only.\n",
      "  df.drop(df.columns.difference(['pickup_datetime',\n",
      "C:\\Users\\Silvia\\AppData\\Local\\Temp\\ipykernel_19920\\2099839999.py:3: DtypeWarning: Columns (9,13) have mixed types. Specify dtype option on import or set low_memory=False.\n",
      "  df = pd.read_csv(csv_file)\n",
      "C:\\Users\\Silvia\\AppData\\Local\\Temp\\ipykernel_19920\\2099839999.py:5: FutureWarning: In a future version of pandas all arguments of DataFrame.drop except for the argument 'labels' will be keyword-only.\n",
      "  df.drop(df.columns.difference(['DATE',\n",
      "C:\\Users\\Silvia\\AppData\\Local\\Temp\\ipykernel_19920\\2252719857.py:3: DtypeWarning: Columns (9,13) have mixed types. Specify dtype option on import or set low_memory=False.\n",
      "  df = pd.read_csv(csv_file)\n",
      "C:\\Users\\Silvia\\AppData\\Local\\Temp\\ipykernel_19920\\2252719857.py:13: FutureWarning: In a future version of pandas all arguments of DataFrame.drop except for the argument 'labels' will be keyword-only.\n",
      "  df.drop(df.columns.difference(['DATE',\n",
      "C:\\Users\\Silvia\\AppData\\Local\\Temp\\ipykernel_19920\\2099839999.py:3: DtypeWarning: Columns (8,9,10,17) have mixed types. Specify dtype option on import or set low_memory=False.\n",
      "  df = pd.read_csv(csv_file)\n",
      "C:\\Users\\Silvia\\AppData\\Local\\Temp\\ipykernel_19920\\2099839999.py:5: FutureWarning: In a future version of pandas all arguments of DataFrame.drop except for the argument 'labels' will be keyword-only.\n",
      "  df.drop(df.columns.difference(['DATE',\n",
      "C:\\Users\\Silvia\\AppData\\Local\\Temp\\ipykernel_19920\\2252719857.py:3: DtypeWarning: Columns (8,9,10,17) have mixed types. Specify dtype option on import or set low_memory=False.\n",
      "  df = pd.read_csv(csv_file)\n",
      "C:\\Users\\Silvia\\AppData\\Local\\Temp\\ipykernel_19920\\2252719857.py:13: FutureWarning: In a future version of pandas all arguments of DataFrame.drop except for the argument 'labels' will be keyword-only.\n",
      "  df.drop(df.columns.difference(['DATE',\n",
      "C:\\Users\\Silvia\\AppData\\Local\\Temp\\ipykernel_19920\\2099839999.py:3: DtypeWarning: Columns (10) have mixed types. Specify dtype option on import or set low_memory=False.\n",
      "  df = pd.read_csv(csv_file)\n",
      "C:\\Users\\Silvia\\AppData\\Local\\Temp\\ipykernel_19920\\2099839999.py:5: FutureWarning: In a future version of pandas all arguments of DataFrame.drop except for the argument 'labels' will be keyword-only.\n",
      "  df.drop(df.columns.difference(['DATE',\n",
      "C:\\Users\\Silvia\\AppData\\Local\\Temp\\ipykernel_19920\\2252719857.py:3: DtypeWarning: Columns (10) have mixed types. Specify dtype option on import or set low_memory=False.\n",
      "  df = pd.read_csv(csv_file)\n",
      "C:\\Users\\Silvia\\AppData\\Local\\Temp\\ipykernel_19920\\2252719857.py:13: FutureWarning: In a future version of pandas all arguments of DataFrame.drop except for the argument 'labels' will be keyword-only.\n",
      "  df.drop(df.columns.difference(['DATE',\n",
      "C:\\Users\\Silvia\\AppData\\Local\\Temp\\ipykernel_19920\\2099839999.py:3: DtypeWarning: Columns (7,8,9,10,17,18,42,65) have mixed types. Specify dtype option on import or set low_memory=False.\n",
      "  df = pd.read_csv(csv_file)\n",
      "C:\\Users\\Silvia\\AppData\\Local\\Temp\\ipykernel_19920\\2099839999.py:5: FutureWarning: In a future version of pandas all arguments of DataFrame.drop except for the argument 'labels' will be keyword-only.\n",
      "  df.drop(df.columns.difference(['DATE',\n",
      "C:\\Users\\Silvia\\AppData\\Local\\Temp\\ipykernel_19920\\2252719857.py:3: DtypeWarning: Columns (7,8,9,10,17,18,42,65) have mixed types. Specify dtype option on import or set low_memory=False.\n",
      "  df = pd.read_csv(csv_file)\n",
      "C:\\Users\\Silvia\\AppData\\Local\\Temp\\ipykernel_19920\\2252719857.py:13: FutureWarning: In a future version of pandas all arguments of DataFrame.drop except for the argument 'labels' will be keyword-only.\n",
      "  df.drop(df.columns.difference(['DATE',\n",
      "C:\\Users\\Silvia\\AppData\\Local\\Temp\\ipykernel_19920\\2099839999.py:3: DtypeWarning: Columns (17,78) have mixed types. Specify dtype option on import or set low_memory=False.\n",
      "  df = pd.read_csv(csv_file)\n",
      "C:\\Users\\Silvia\\AppData\\Local\\Temp\\ipykernel_19920\\2099839999.py:5: FutureWarning: In a future version of pandas all arguments of DataFrame.drop except for the argument 'labels' will be keyword-only.\n",
      "  df.drop(df.columns.difference(['DATE',\n",
      "C:\\Users\\Silvia\\AppData\\Local\\Temp\\ipykernel_19920\\2252719857.py:3: DtypeWarning: Columns (17,78) have mixed types. Specify dtype option on import or set low_memory=False.\n",
      "  df = pd.read_csv(csv_file)\n",
      "C:\\Users\\Silvia\\AppData\\Local\\Temp\\ipykernel_19920\\2252719857.py:13: FutureWarning: In a future version of pandas all arguments of DataFrame.drop except for the argument 'labels' will be keyword-only.\n",
      "  df.drop(df.columns.difference(['DATE',\n",
      "C:\\Users\\Silvia\\AppData\\Local\\Temp\\ipykernel_19920\\2099839999.py:3: DtypeWarning: Columns (8,9,17,18,78) have mixed types. Specify dtype option on import or set low_memory=False.\n",
      "  df = pd.read_csv(csv_file)\n",
      "C:\\Users\\Silvia\\AppData\\Local\\Temp\\ipykernel_19920\\2099839999.py:5: FutureWarning: In a future version of pandas all arguments of DataFrame.drop except for the argument 'labels' will be keyword-only.\n",
      "  df.drop(df.columns.difference(['DATE',\n",
      "C:\\Users\\Silvia\\AppData\\Local\\Temp\\ipykernel_19920\\2252719857.py:3: DtypeWarning: Columns (8,9,17,18,78) have mixed types. Specify dtype option on import or set low_memory=False.\n",
      "  df = pd.read_csv(csv_file)\n",
      "C:\\Users\\Silvia\\AppData\\Local\\Temp\\ipykernel_19920\\2252719857.py:13: FutureWarning: In a future version of pandas all arguments of DataFrame.drop except for the argument 'labels' will be keyword-only.\n",
      "  df.drop(df.columns.difference(['DATE',\n",
      "C:\\Users\\Silvia\\AppData\\Local\\Temp\\ipykernel_19920\\2099839999.py:3: DtypeWarning: Columns (10,41,78) have mixed types. Specify dtype option on import or set low_memory=False.\n",
      "  df = pd.read_csv(csv_file)\n",
      "C:\\Users\\Silvia\\AppData\\Local\\Temp\\ipykernel_19920\\2099839999.py:5: FutureWarning: In a future version of pandas all arguments of DataFrame.drop except for the argument 'labels' will be keyword-only.\n",
      "  df.drop(df.columns.difference(['DATE',\n",
      "C:\\Users\\Silvia\\AppData\\Local\\Temp\\ipykernel_19920\\2252719857.py:3: DtypeWarning: Columns (10,41,78) have mixed types. Specify dtype option on import or set low_memory=False.\n",
      "  df = pd.read_csv(csv_file)\n",
      "C:\\Users\\Silvia\\AppData\\Local\\Temp\\ipykernel_19920\\2252719857.py:13: FutureWarning: In a future version of pandas all arguments of DataFrame.drop except for the argument 'labels' will be keyword-only.\n",
      "  df.drop(df.columns.difference(['DATE',\n",
      "C:\\Users\\Silvia\\AppData\\Local\\Temp\\ipykernel_19920\\4001209316.py:2: DtypeWarning: Columns (9,13) have mixed types. Specify dtype option on import or set low_memory=False.\n",
      "  df = pd.read_csv(csv_file)\n",
      "C:\\Users\\Silvia\\AppData\\Local\\Temp\\ipykernel_19920\\4001209316.py:3: FutureWarning: In a future version of pandas all arguments of DataFrame.drop except for the argument 'labels' will be keyword-only.\n",
      "  df.drop(df.columns.difference(['DATE','Sunset','Sunrise']), 1, inplace=True)\n",
      "C:\\Users\\Silvia\\AppData\\Local\\Temp\\ipykernel_19920\\4001209316.py:2: DtypeWarning: Columns (8,9,10,17) have mixed types. Specify dtype option on import or set low_memory=False.\n",
      "  df = pd.read_csv(csv_file)\n",
      "C:\\Users\\Silvia\\AppData\\Local\\Temp\\ipykernel_19920\\4001209316.py:3: FutureWarning: In a future version of pandas all arguments of DataFrame.drop except for the argument 'labels' will be keyword-only.\n",
      "  df.drop(df.columns.difference(['DATE','Sunset','Sunrise']), 1, inplace=True)\n",
      "C:\\Users\\Silvia\\AppData\\Local\\Temp\\ipykernel_19920\\4001209316.py:2: DtypeWarning: Columns (10) have mixed types. Specify dtype option on import or set low_memory=False.\n",
      "  df = pd.read_csv(csv_file)\n",
      "C:\\Users\\Silvia\\AppData\\Local\\Temp\\ipykernel_19920\\4001209316.py:3: FutureWarning: In a future version of pandas all arguments of DataFrame.drop except for the argument 'labels' will be keyword-only.\n",
      "  df.drop(df.columns.difference(['DATE','Sunset','Sunrise']), 1, inplace=True)\n",
      "C:\\Users\\Silvia\\AppData\\Local\\Temp\\ipykernel_19920\\4001209316.py:2: DtypeWarning: Columns (7,8,9,10,17,18,42,65) have mixed types. Specify dtype option on import or set low_memory=False.\n",
      "  df = pd.read_csv(csv_file)\n",
      "C:\\Users\\Silvia\\AppData\\Local\\Temp\\ipykernel_19920\\4001209316.py:3: FutureWarning: In a future version of pandas all arguments of DataFrame.drop except for the argument 'labels' will be keyword-only.\n",
      "  df.drop(df.columns.difference(['DATE','Sunset','Sunrise']), 1, inplace=True)\n",
      "C:\\Users\\Silvia\\AppData\\Local\\Temp\\ipykernel_19920\\4001209316.py:2: DtypeWarning: Columns (17,78) have mixed types. Specify dtype option on import or set low_memory=False.\n",
      "  df = pd.read_csv(csv_file)\n",
      "C:\\Users\\Silvia\\AppData\\Local\\Temp\\ipykernel_19920\\4001209316.py:3: FutureWarning: In a future version of pandas all arguments of DataFrame.drop except for the argument 'labels' will be keyword-only.\n",
      "  df.drop(df.columns.difference(['DATE','Sunset','Sunrise']), 1, inplace=True)\n"
     ]
    },
    {
     "name": "stderr",
     "output_type": "stream",
     "text": [
      "C:\\Users\\Silvia\\AppData\\Local\\Temp\\ipykernel_19920\\4001209316.py:2: DtypeWarning: Columns (8,9,17,18,78) have mixed types. Specify dtype option on import or set low_memory=False.\n",
      "  df = pd.read_csv(csv_file)\n",
      "C:\\Users\\Silvia\\AppData\\Local\\Temp\\ipykernel_19920\\4001209316.py:3: FutureWarning: In a future version of pandas all arguments of DataFrame.drop except for the argument 'labels' will be keyword-only.\n",
      "  df.drop(df.columns.difference(['DATE','Sunset','Sunrise']), 1, inplace=True)\n",
      "C:\\Users\\Silvia\\AppData\\Local\\Temp\\ipykernel_19920\\4001209316.py:2: DtypeWarning: Columns (10,41,78) have mixed types. Specify dtype option on import or set low_memory=False.\n",
      "  df = pd.read_csv(csv_file)\n",
      "C:\\Users\\Silvia\\AppData\\Local\\Temp\\ipykernel_19920\\4001209316.py:3: FutureWarning: In a future version of pandas all arguments of DataFrame.drop except for the argument 'labels' will be keyword-only.\n",
      "  df.drop(df.columns.difference(['DATE','Sunset','Sunrise']), 1, inplace=True)\n"
     ]
    }
   ],
   "source": [
    "taxi_data = get_sample_taxi_data()\n",
    "uber_data = load_and_clean_uber_data(r\"C:\\Users\\Silvia\\Downloads\\uber_rides_sample.csv\")\n",
    "hourly_weather_data, daily_weather_data = load_and_clean_weather_data()\n",
    "sunrise_sunset_data = load_and_clean_sunrise_sunset_data()"
   ]
  },
  {
   "cell_type": "markdown",
   "id": "dd101f11",
   "metadata": {
    "id": "dd101f11"
   },
   "source": [
    "## Part 2: Storing Cleaned Data\n",
    "\n",
    "_Write some prose that tells the reader what you're about to do here._"
   ]
  },
  {
   "cell_type": "code",
   "execution_count": null,
   "id": "f3529cf6",
   "metadata": {
    "id": "f3529cf6"
   },
   "outputs": [],
   "source": [
    "engine = db.create_engine(DATABASE_URL)"
   ]
  },
  {
   "cell_type": "code",
   "execution_count": null,
   "id": "9910c009",
   "metadata": {},
   "outputs": [],
   "source": [
    "from sqlalchemy import Column, Date, Integer, Float, String\n",
    "from sqlalchemy.ext.declarative import declarative_base\n",
    "\n",
    "Base = declarative_base()"
   ]
  },
  {
   "cell_type": "code",
   "execution_count": null,
   "id": "a2286db9",
   "metadata": {},
   "outputs": [],
   "source": [
    "class HourlyWeather(Base):\n",
    "    __tablename__ = 'hourly_weathers'\n",
    "    \n",
    "    id = Column(Integer, primary_key=True)\n",
    "    Date = Column(Date)\n",
    "    HourlyPrecipitation = Column(Float)\n",
    "    HourlyWindSpeed = Column(Float)\n",
    "\n",
    "class DailyWeather(Base):\n",
    "    __tablename__ = 'daily_weathers'\n",
    "    \n",
    "    id = Column(Integer, primary_key=True)\n",
    "    Date = Column(Date)\n",
    "    DailyPrecipitation = Column(Float)\n",
    "    DailyAverageWindSpeed = Column(Float)\n",
    "\n",
    "class TaxiTrip(Base):\n",
    "    __tablename__ = 'taxi_trips'\n",
    "    \n",
    "    id = Column(Integer, primary_key=True)\n",
    "    pickup_datetime = Column(Date)\n",
    "    trip_distance = Column(Float)\n",
    "    pickup_longitude = Column(Float)\n",
    "    pickup_latitude = Column(Float)\n",
    "    dropoff_longitude = Column(Float)\n",
    "    dropoff_latitude = Column(Float)\n",
    "\n",
    "class UberTrip(Base):\n",
    "    __tablename__ = 'uber_trips'\n",
    "    \n",
    "    id = Column(Integer, primary_key=True)\n",
    "    pickup_datetime = Column(Date)\n",
    "    trip_distance = Column(Float)\n",
    "    pickup_longitude = Column(Float)\n",
    "    pickup_latitude = Column(Float)\n",
    "    dropoff_longitude = Column(Float)\n",
    "    dropoff_latitude = Column(Float)"
   ]
  },
  {
   "cell_type": "code",
   "execution_count": null,
   "id": "42f828dd",
   "metadata": {},
   "outputs": [],
   "source": [
    "class Sunrise_Sunset(Base):\n",
    "    __tablename__ = 'sunrise_sunsets'\n",
    "    \n",
    "    id = Column(Integer, primary_key=True)\n",
    "    Date = Column(Date)\n",
    "    Sunrise = Column(Integer)\n",
    "    Sunset = Column(Integer)"
   ]
  },
  {
   "cell_type": "code",
   "execution_count": null,
   "id": "oC2SH-VlxEAJ",
   "metadata": {
    "id": "oC2SH-VlxEAJ"
   },
   "outputs": [],
   "source": [
    "# if using SQL (as opposed to SQLAlchemy), define the commands \n",
    "# to create your 4 tables/dataframes\n",
    "HOURLY_WEATHER_SCHEMA = \"\"\"\n",
    "CREATE TABLE IF NOT EXISTS hourly_weather\n",
    "(\n",
    "    weatherId INTEGER PRIMARY KEY AUTOINCREMENT,\n",
    "    Date DATE,\n",
    "    HourlyPrecipitation FLOAT,\n",
    "    HourlyWindSpeed FLOAT\n",
    ");\n",
    "\"\"\"\n",
    "\n",
    "DAILY_WEATHER_SCHEMA = \"\"\"\n",
    "CREATE TABLE IF NOT EXISTS daily_weather\n",
    "(\n",
    "    weatherId INTEGER PRIMARY KEY AUTOINCREMENT\n",
    "    Date DATE,\n",
    "    DailyPrecipitation FLOAT,\n",
    "    DailyAverageWindSpeed FLOAT\n",
    ");\n",
    "\"\"\"\n",
    "\n",
    "TAXI_TRIPS_SCHEMA = \"\"\"\n",
    "CREATE TABLE IF NOT EXISTS taxi_trips\n",
    "(\n",
    "    taxi_tripId INTEGER PRIMARY KEY AUTOINCREMENT,\n",
    "    pickup_datetime DATE,\n",
    "    distance FLOAT,\n",
    "    pickup_longitude FLOAT,\n",
    "    pickup_latitude FLOAT,\n",
    "    dropoff_longitude FLOAT,\n",
    "    dropoff_latitude FLOAT\n",
    ");\n",
    "\"\"\"\n",
    "\n",
    "UBER_TRIPS_SCHEMA = \"\"\"\n",
    "CREATE TABLE IF NOT EXISTS uber_trips\n",
    "(\n",
    "    uber_tripId INTEGER PRIMARY KEY AUTOINCREMENT,\n",
    "    pickup_datetime DATE,\n",
    "    distance FLOAT,\n",
    "    pickup_longitude FLOAT,\n",
    "    pickup_latitude FLOAT,\n",
    "    dropoff_longitude FLOAT,\n",
    "    dropoff_latitude FLOAT\n",
    ");\n",
    "\"\"\""
   ]
  },
  {
   "cell_type": "code",
   "execution_count": null,
   "id": "608d76c4",
   "metadata": {},
   "outputs": [],
   "source": [
    "SUNRISE_SUNSET_SCHEMA = \"\"\"\n",
    "CREATE TABLE IF NOT EXISTS sunrise_sunsets\n",
    "(\n",
    "    sunrise_sunsetID INTEGER PRIMARY KEY AUTOINCREMENT,\n",
    "    Date DATE,\n",
    "    Sunrise INTEGER,\n",
    "    Sunset INTEGER\n",
    ");\n",
    "\"\"\"\n",
    "with open(DATABASE_SCHEMA_FILE, \"w\") as f:\n",
    "    f.write(SUNRISE_SUNSET_SCHEMA)"
   ]
  },
  {
   "cell_type": "code",
   "execution_count": null,
   "id": "chAPoBRv12VX",
   "metadata": {
    "id": "chAPoBRv12VX"
   },
   "outputs": [],
   "source": [
    "# create that required schema.sql file\n",
    "with open(DATABASE_SCHEMA_FILE, \"w\") as f:\n",
    "    f.write(HOURLY_WEATHER_SCHEMA)\n",
    "    f.write(DAILY_WEATHER_SCHEMA)\n",
    "    f.write(TAXI_TRIPS_SCHEMA)\n",
    "    f.write(UBER_TRIPS_SCHEMA)"
   ]
  },
  {
   "cell_type": "code",
   "execution_count": null,
   "id": "8646cdb4",
   "metadata": {},
   "outputs": [],
   "source": [
    "connection = sqlite3.connect(\"project.db\")"
   ]
  },
  {
   "cell_type": "markdown",
   "id": "c122964f",
   "metadata": {
    "id": "c122964f"
   },
   "source": [
    "### Add Data to Database\n",
    "\n",
    "_**TODO:** Write some prose that tells the reader what you're about to do here._"
   ]
  },
  {
   "cell_type": "code",
   "execution_count": null,
   "id": "8d54db53",
   "metadata": {},
   "outputs": [
    {
     "data": {
      "text/plain": [
       "73713"
      ]
     },
     "execution_count": 38,
     "metadata": {},
     "output_type": "execute_result"
    }
   ],
   "source": [
    "uber_data.to_sql(\"uber_trips\", con = connection,schema=UBER_TRIPS_SCHEMA)\n",
    "taxi_data.to_sql(\"taxi_trips\", con = connection,schema=TAXI_TRIPS_SCHEMA)\n",
    "daily_weather_data.to_sql(\"daily_weathers\", con = connection,schema=DAILY_WEATHER_SCHEMA)\n",
    "hourly_weather_data.to_sql(\"hourly_weathers\", con = connection,schema=HOURLY_WEATHER_SCHEMA)"
   ]
  },
  {
   "cell_type": "code",
   "execution_count": null,
   "id": "60f201aa",
   "metadata": {},
   "outputs": [
    {
     "data": {
      "text/plain": [
       "1826"
      ]
     },
     "execution_count": 41,
     "metadata": {},
     "output_type": "execute_result"
    }
   ],
   "source": [
    "sunrise_sunset_data.to_sql(\"sunrise_sunsets\", con = connection, schema=SUNRISE_SUNSET_SCHEMA)"
   ]
  },
  {
   "cell_type": "markdown",
   "id": "8cb6e33e",
   "metadata": {
    "id": "8cb6e33e"
   },
   "source": [
    "## Part 3: Understanding the Data"
   ]
  },
  {
   "cell_type": "markdown",
   "id": "b4753fcd",
   "metadata": {
    "id": "b4753fcd"
   },
   "source": [
    "_A checklist of requirements to keep you on track. Remove this whole cell before submitting the project. The order of these tasks aren't necessarily the order in which they need to be done. It's okay to do them in an order that makes sense to you._\n",
    "\n",
    "* [ ] For 01-2009 through 06-2015, what hour of the day was the most popular to take a yellow taxi? The result should have 24 bins.\n",
    "* [ ] For the same time frame, what day of the week was the most popular to take an uber? The result should have 7 bins.\n",
    "* [ ] What is the 95% percentile of distance traveled for all hired trips during July 2013?\n",
    "* [ ] What were the top 10 days with the highest number of hired rides for 2009, and what was the average distance for each day?\n",
    "* [ ] Which 10 days in 2014 were the windiest, and how many hired trips were made on those days?\n",
    "* [ ] During Hurricane Sandy in NYC (Oct 29-30, 2012) and the week leading up to it, how many trips were taken each hour, and for each hour, how much precipitation did NYC receive and what was the sustained wind speed?"
   ]
  },
  {
   "cell_type": "code",
   "execution_count": null,
   "id": "6a849e92",
   "metadata": {
    "id": "6a849e92"
   },
   "outputs": [],
   "source": [
    "def write_query_to_file(query: str, outfile: str):\n",
    "    with open(outfile, \"w\") as f:\n",
    "        f.write(query)\n",
    "        f.close()"
   ]
  },
  {
   "cell_type": "markdown",
   "id": "ee70a777",
   "metadata": {
    "id": "ee70a777"
   },
   "source": [
    "### Query N\n",
    "\n",
    "_**TODO:** Write some prose that tells the reader what you're about to do here._\n",
    "\n",
    "_Repeat for each query_"
   ]
  },
  {
   "cell_type": "code",
   "execution_count": null,
   "id": "8ef95e9b",
   "metadata": {},
   "outputs": [],
   "source": [
    "QUERY_1 = \"\"\"\n",
    "SELECT strftime ('%H',pickup_datetime) AS HOUR,\n",
    "COUNT(strftime ('%H',pickup_datetime)) AS Trip_counts\n",
    "FROM taxi_trips\n",
    "GROUP BY HOUR\n",
    "ORDER BY Trip_counts DESC\n",
    "\"\"\""
   ]
  },
  {
   "cell_type": "code",
   "execution_count": null,
   "id": "4dd3cfb6",
   "metadata": {},
   "outputs": [
    {
     "data": {
      "text/plain": [
       "[('19', 12300),\n",
       " ('18', 11824),\n",
       " ('20', 11497),\n",
       " ('21', 11046),\n",
       " ('22', 10898),\n",
       " ('14', 9944),\n",
       " ('23', 9732),\n",
       " ('17', 9728),\n",
       " ('12', 9727),\n",
       " ('13', 9566),\n",
       " ('15', 9282),\n",
       " ('09', 9247),\n",
       " ('11', 9130),\n",
       " ('08', 8898),\n",
       " ('10', 8861),\n",
       " ('16', 8114),\n",
       " ('00', 7867),\n",
       " ('07', 7025),\n",
       " ('01', 5477),\n",
       " ('02', 4151),\n",
       " ('06', 4083),\n",
       " ('03', 3047),\n",
       " ('04', 2236),\n",
       " ('05', 1792)]"
      ]
     },
     "execution_count": 44,
     "metadata": {},
     "output_type": "execute_result"
    }
   ],
   "source": [
    "engine.execute(QUERY_1).fetchall()"
   ]
  },
  {
   "cell_type": "code",
   "execution_count": null,
   "id": "aa5f4263",
   "metadata": {},
   "outputs": [],
   "source": [
    "write_query_to_file(QUERY_1, \"most_popular_hour_taxi.sql\")"
   ]
  },
  {
   "cell_type": "code",
   "execution_count": null,
   "id": "741813a0",
   "metadata": {},
   "outputs": [],
   "source": [
    "QUERY_2 = '''\n",
    "SELECT strftime ('%w',pickup_datetime) AS Day,\n",
    "COUNT(strftime ('%w',pickup_datetime)) AS Trip_counts\n",
    "FROM uber_trips\n",
    "GROUP BY Day\n",
    "ORDER BY Trip_counts DESC\n",
    "'''"
   ]
  },
  {
   "cell_type": "code",
   "execution_count": null,
   "id": "928c3760",
   "metadata": {},
   "outputs": [
    {
     "data": {
      "text/plain": [
       "[('5', 30166),\n",
       " ('6', 29599),\n",
       " ('4', 29338),\n",
       " ('3', 28328),\n",
       " ('2', 27526),\n",
       " ('0', 25834),\n",
       " ('1', 24681)]"
      ]
     },
     "execution_count": 47,
     "metadata": {},
     "output_type": "execute_result"
    }
   ],
   "source": [
    "engine.execute(QUERY_2).fetchall()"
   ]
  },
  {
   "cell_type": "code",
   "execution_count": null,
   "id": "c2aed09a",
   "metadata": {},
   "outputs": [],
   "source": [
    "write_query_to_file(QUERY_2, \"most_popular_day_uber.sql\")"
   ]
  },
  {
   "cell_type": "code",
   "execution_count": null,
   "id": "ec5ec601",
   "metadata": {},
   "outputs": [],
   "source": [
    "QUERY_3 = \"\"\"\n",
    "SELECT distance FROM(\n",
    "SELECT trip_distance AS distance\n",
    "FROM (SELECT pickup_datetime, trip_distance, pickup_longitude, pickup_latitude, dropoff_longitude, dropoff_latitude from taxi_trips\n",
    "WHERE pickup_datetime between '2013-07-01' AND '2013-07-31'\n",
    "union all\n",
    "SELECT pickup_datetime, trip_distance, pickup_longitude, pickup_latitude, dropoff_longitude, dropoff_latitude from uber_trips)\n",
    "WHERE pickup_datetime between '2013-07-01' AND '2013-07-31'\n",
    ")\n",
    "ORDER BY distance ASC\n",
    "LIMIT 1\n",
    "OFFSET (SELECT count(*)\n",
    "FROM (SELECT trip_distance AS distance\n",
    "FROM (SELECT pickup_datetime, trip_distance, pickup_longitude, pickup_latitude, dropoff_longitude, dropoff_latitude from taxi_trips\n",
    "WHERE pickup_datetime between '2013-07-01' AND '2013-07-31'\n",
    "union all\n",
    "SELECT pickup_datetime, trip_distance, pickup_longitude, pickup_latitude, dropoff_longitude, dropoff_latitude from uber_trips)\n",
    "WHERE pickup_datetime between '2013-07-01' AND '2013-07-31'\n",
    ")) * 95 / 100 -1\n",
    "\"\"\""
   ]
  },
  {
   "cell_type": "code",
   "execution_count": null,
   "id": "7f952538",
   "metadata": {},
   "outputs": [
    {
     "data": {
      "text/plain": [
       "[(9.871179738140432,)]"
      ]
     },
     "execution_count": 50,
     "metadata": {},
     "output_type": "execute_result"
    }
   ],
   "source": [
    "engine.execute(QUERY_3).fetchall()"
   ]
  },
  {
   "cell_type": "code",
   "execution_count": null,
   "id": "f1c57bc9",
   "metadata": {},
   "outputs": [],
   "source": [
    "write_query_to_file(QUERY_3, \"95%_distance.sql\")"
   ]
  },
  {
   "cell_type": "code",
   "execution_count": null,
   "id": "5ee97419",
   "metadata": {},
   "outputs": [],
   "source": [
    "QUERY_4 = \"\"\"\n",
    "SELECT strftime ('%Y-%m-%d',pickup_datetime) AS DAY,\n",
    "AVG(trip_distance)\n",
    "FROM uber_trips\n",
    "WHERE pickup_datetime between '2009-01-01' AND '2009-12-31'\n",
    "GROUP BY DAY\n",
    "ORDER BY COUNT(strftime ('%Y-%m-%d',pickup_datetime)) DESC\n",
    "LIMIT 10\n",
    "\"\"\""
   ]
  },
  {
   "cell_type": "code",
   "execution_count": null,
   "id": "c2e36578",
   "metadata": {},
   "outputs": [
    {
     "data": {
      "text/plain": [
       "[('2009-12-11', 2.9768262340720337),\n",
       " ('2009-10-23', 2.453237016027757),\n",
       " ('2009-08-14', 3.5497316114127453),\n",
       " ('2009-04-18', 3.3308394224390288),\n",
       " ('2009-01-31', 2.7928274073095603),\n",
       " ('2009-07-09', 3.455500799594005),\n",
       " ('2009-05-08', 3.3122468204357984),\n",
       " ('2009-03-19', 3.2952160550196434),\n",
       " ('2009-05-16', 2.773624142420374),\n",
       " ('2009-07-23', 3.676997730363371)]"
      ]
     },
     "execution_count": 53,
     "metadata": {},
     "output_type": "execute_result"
    }
   ],
   "source": [
    "engine.execute(QUERY_4).fetchall()"
   ]
  },
  {
   "cell_type": "code",
   "execution_count": null,
   "id": "9abf99ef",
   "metadata": {},
   "outputs": [],
   "source": [
    "write_query_to_file(QUERY_4, \"top_10_rides.sql\")"
   ]
  },
  {
   "cell_type": "code",
   "execution_count": null,
   "id": "640e81df",
   "metadata": {},
   "outputs": [],
   "source": [
    "QUERY_5 = \"\"\"\n",
    "SELECT DAY, COUNT(*) FROM\n",
    "(SELECT strftime('%Y-%m-%d', pickup_datetime) as DAY from taxi_trips\n",
    "UNION ALL\n",
    "SELECT strftime('%Y-%m-%d', pickup_datetime) as DAY from uber_trips)\n",
    "WHERE DAY IN (SELECT strftime ('%Y-%m-%d', DAY) AS DAY FROM daily_weathers\n",
    "WHERE DAY between '2014-01-01' AND '2014-12-31'\n",
    "ORDER BY (DailyAverageWindSpeed) DESC\n",
    "LIMIT 10)\n",
    "GROUP BY DAY\n",
    "\"\"\""
   ]
  },
  {
   "cell_type": "code",
   "execution_count": null,
   "id": "f905002a",
   "metadata": {},
   "outputs": [
    {
     "data": {
      "text/plain": [
       "[('2014-01-01', 164),\n",
       " ('2014-01-02', 125),\n",
       " ('2014-01-03', 105),\n",
       " ('2014-01-04', 163),\n",
       " ('2014-01-05', 125),\n",
       " ('2014-01-06', 142),\n",
       " ('2014-01-07', 159),\n",
       " ('2014-01-08', 186),\n",
       " ('2014-01-09', 153),\n",
       " ('2014-01-10', 179),\n",
       " ('2014-01-11', 179),\n",
       " ('2014-01-12', 150),\n",
       " ('2014-01-13', 132),\n",
       " ('2014-01-14', 158),\n",
       " ('2014-01-15', 158),\n",
       " ('2014-01-16', 177),\n",
       " ('2014-01-17', 175),\n",
       " ('2014-01-18', 188),\n",
       " ('2014-01-19', 155),\n",
       " ('2014-01-20', 127),\n",
       " ('2014-01-21', 91),\n",
       " ('2014-01-22', 136),\n",
       " ('2014-01-23', 175),\n",
       " ('2014-01-24', 173),\n",
       " ('2014-01-25', 166),\n",
       " ('2014-01-26', 164),\n",
       " ('2014-01-27', 161),\n",
       " ('2014-01-28', 175),\n",
       " ('2014-01-29', 172),\n",
       " ('2014-01-30', 184),\n",
       " ('2014-01-31', 205),\n",
       " ('2014-02-01', 193),\n",
       " ('2014-02-02', 168),\n",
       " ('2014-02-03', 140),\n",
       " ('2014-02-04', 154),\n",
       " ('2014-02-05', 175),\n",
       " ('2014-02-06', 189),\n",
       " ('2014-02-07', 204),\n",
       " ('2014-02-08', 192),\n",
       " ('2014-02-09', 174),\n",
       " ('2014-02-10', 157),\n",
       " ('2014-02-11', 188),\n",
       " ('2014-02-12', 166),\n",
       " ('2014-02-13', 132),\n",
       " ('2014-02-14', 153),\n",
       " ('2014-02-15', 192),\n",
       " ('2014-02-16', 175),\n",
       " ('2014-02-17', 145),\n",
       " ('2014-02-18', 144),\n",
       " ('2014-02-19', 168),\n",
       " ('2014-02-20', 176),\n",
       " ('2014-02-21', 169),\n",
       " ('2014-02-22', 191),\n",
       " ('2014-02-23', 164),\n",
       " ('2014-02-24', 152),\n",
       " ('2014-02-25', 172),\n",
       " ('2014-02-26', 156),\n",
       " ('2014-02-27', 201),\n",
       " ('2014-02-28', 206),\n",
       " ('2014-03-01', 206),\n",
       " ('2014-03-02', 148),\n",
       " ('2014-03-03', 162),\n",
       " ('2014-03-04', 184),\n",
       " ('2014-03-05', 175),\n",
       " ('2014-03-06', 172),\n",
       " ('2014-03-07', 192),\n",
       " ('2014-03-08', 205),\n",
       " ('2014-03-09', 163),\n",
       " ('2014-03-10', 124),\n",
       " ('2014-03-11', 173),\n",
       " ('2014-03-12', 169),\n",
       " ('2014-03-13', 221),\n",
       " ('2014-03-14', 188),\n",
       " ('2014-03-15', 179),\n",
       " ('2014-03-16', 180),\n",
       " ('2014-03-17', 159),\n",
       " ('2014-03-18', 155),\n",
       " ('2014-03-19', 176),\n",
       " ('2014-03-20', 180),\n",
       " ('2014-03-21', 181),\n",
       " ('2014-03-22', 182),\n",
       " ('2014-03-23', 171),\n",
       " ('2014-03-24', 170),\n",
       " ('2014-03-25', 128),\n",
       " ('2014-03-26', 185),\n",
       " ('2014-03-27', 166),\n",
       " ('2014-03-28', 189),\n",
       " ('2014-03-29', 195),\n",
       " ('2014-03-30', 160),\n",
       " ('2014-03-31', 156),\n",
       " ('2014-04-01', 199),\n",
       " ('2014-04-02', 188),\n",
       " ('2014-04-03', 179),\n",
       " ('2014-04-04', 202),\n",
       " ('2014-04-05', 197),\n",
       " ('2014-04-06', 163),\n",
       " ('2014-04-07', 148),\n",
       " ('2014-04-08', 161),\n",
       " ('2014-04-09', 176),\n",
       " ('2014-04-10', 193),\n",
       " ('2014-04-11', 193),\n",
       " ('2014-04-12', 198),\n",
       " ('2014-04-13', 184),\n",
       " ('2014-04-14', 142),\n",
       " ('2014-04-15', 155),\n",
       " ('2014-04-16', 180),\n",
       " ('2014-04-17', 191),\n",
       " ('2014-04-18', 178),\n",
       " ('2014-04-19', 177),\n",
       " ('2014-04-20', 148),\n",
       " ('2014-04-21', 176),\n",
       " ('2014-04-22', 166),\n",
       " ('2014-04-23', 177),\n",
       " ('2014-04-24', 189),\n",
       " ('2014-04-25', 196),\n",
       " ('2014-04-26', 183),\n",
       " ('2014-04-27', 163),\n",
       " ('2014-04-28', 154),\n",
       " ('2014-04-29', 159),\n",
       " ('2014-04-30', 177),\n",
       " ('2014-05-01', 148),\n",
       " ('2014-05-02', 167),\n",
       " ('2014-05-03', 188),\n",
       " ('2014-05-04', 160),\n",
       " ('2014-05-05', 156),\n",
       " ('2014-05-06', 171),\n",
       " ('2014-05-07', 184),\n",
       " ('2014-05-08', 184),\n",
       " ('2014-05-09', 180),\n",
       " ('2014-05-10', 172),\n",
       " ('2014-05-11', 176),\n",
       " ('2014-05-12', 138),\n",
       " ('2014-05-13', 178),\n",
       " ('2014-05-14', 154),\n",
       " ('2014-05-15', 197),\n",
       " ('2014-05-16', 195),\n",
       " ('2014-05-17', 201),\n",
       " ('2014-05-18', 151),\n",
       " ('2014-05-19', 172),\n",
       " ('2014-05-20', 164),\n",
       " ('2014-05-21', 192),\n",
       " ('2014-05-22', 148),\n",
       " ('2014-05-23', 164),\n",
       " ('2014-05-24', 129),\n",
       " ('2014-05-25', 140),\n",
       " ('2014-05-26', 128),\n",
       " ('2014-05-27', 155),\n",
       " ('2014-05-28', 171),\n",
       " ('2014-05-29', 178),\n",
       " ('2014-05-30', 175),\n",
       " ('2014-05-31', 184),\n",
       " ('2014-06-01', 144),\n",
       " ('2014-06-02', 156),\n",
       " ('2014-06-03', 152),\n",
       " ('2014-06-04', 188),\n",
       " ('2014-06-05', 174),\n",
       " ('2014-06-06', 171),\n",
       " ('2014-06-07', 169),\n",
       " ('2014-06-08', 139),\n",
       " ('2014-06-09', 141),\n",
       " ('2014-06-10', 176),\n",
       " ('2014-06-11', 177),\n",
       " ('2014-06-12', 189),\n",
       " ('2014-06-13', 167),\n",
       " ('2014-06-14', 183),\n",
       " ('2014-06-15', 132),\n",
       " ('2014-06-16', 141),\n",
       " ('2014-06-17', 163),\n",
       " ('2014-06-18', 173),\n",
       " ('2014-06-19', 177),\n",
       " ('2014-06-20', 168),\n",
       " ('2014-06-21', 169),\n",
       " ('2014-06-22', 135),\n",
       " ('2014-06-23', 152),\n",
       " ('2014-06-24', 133),\n",
       " ('2014-06-25', 172),\n",
       " ('2014-06-26', 148),\n",
       " ('2014-06-27', 148),\n",
       " ('2014-06-28', 182),\n",
       " ('2014-06-29', 147),\n",
       " ('2014-06-30', 156),\n",
       " ('2014-07-01', 142),\n",
       " ('2014-07-02', 145),\n",
       " ('2014-07-03', 145),\n",
       " ('2014-07-04', 95),\n",
       " ('2014-07-05', 97),\n",
       " ('2014-07-06', 120),\n",
       " ('2014-07-07', 130),\n",
       " ('2014-07-08', 137),\n",
       " ('2014-07-09', 155),\n",
       " ('2014-07-10', 158),\n",
       " ('2014-07-11', 169),\n",
       " ('2014-07-12', 148),\n",
       " ('2014-07-13', 152),\n",
       " ('2014-07-14', 136),\n",
       " ('2014-07-15', 167),\n",
       " ('2014-07-16', 176),\n",
       " ('2014-07-17', 186),\n",
       " ('2014-07-18', 148),\n",
       " ('2014-07-19', 137),\n",
       " ('2014-07-20', 125),\n",
       " ('2014-07-21', 142),\n",
       " ('2014-07-22', 175),\n",
       " ('2014-07-23', 173),\n",
       " ('2014-07-24', 164),\n",
       " ('2014-07-25', 156),\n",
       " ('2014-07-26', 162),\n",
       " ('2014-07-27', 141),\n",
       " ('2014-07-28', 131),\n",
       " ('2014-07-29', 146),\n",
       " ('2014-07-30', 165),\n",
       " ('2014-07-31', 147),\n",
       " ('2014-08-01', 158),\n",
       " ('2014-08-02', 133),\n",
       " ('2014-08-03', 129),\n",
       " ('2014-08-04', 149),\n",
       " ('2014-08-05', 160),\n",
       " ('2014-08-06', 139),\n",
       " ('2014-08-07', 138),\n",
       " ('2014-08-08', 177),\n",
       " ('2014-08-09', 134),\n",
       " ('2014-08-10', 145),\n",
       " ('2014-08-11', 134),\n",
       " ('2014-08-12', 136),\n",
       " ('2014-08-13', 152),\n",
       " ('2014-08-14', 129),\n",
       " ('2014-08-15', 159),\n",
       " ('2014-08-16', 133),\n",
       " ('2014-08-17', 132),\n",
       " ('2014-08-18', 107),\n",
       " ('2014-08-19', 126),\n",
       " ('2014-08-20', 122),\n",
       " ('2014-08-21', 128),\n",
       " ('2014-08-22', 153),\n",
       " ('2014-08-23', 135),\n",
       " ('2014-08-24', 126),\n",
       " ('2014-08-25', 133),\n",
       " ('2014-08-26', 133),\n",
       " ('2014-08-27', 138),\n",
       " ('2014-08-28', 148),\n",
       " ('2014-08-29', 142),\n",
       " ('2014-08-30', 140),\n",
       " ('2014-08-31', 110),\n",
       " ('2014-09-01', 96),\n",
       " ('2014-09-02', 156),\n",
       " ('2014-09-03', 160),\n",
       " ('2014-09-04', 166),\n",
       " ('2014-09-05', 177),\n",
       " ('2014-09-06', 187),\n",
       " ('2014-09-07', 135),\n",
       " ('2014-09-08', 161),\n",
       " ('2014-09-09', 176),\n",
       " ('2014-09-10', 161),\n",
       " ('2014-09-11', 183),\n",
       " ('2014-09-12', 171),\n",
       " ('2014-09-13', 153),\n",
       " ('2014-09-14', 165),\n",
       " ('2014-09-15', 147),\n",
       " ('2014-09-16', 158),\n",
       " ('2014-09-17', 136),\n",
       " ('2014-09-18', 163),\n",
       " ('2014-09-19', 196),\n",
       " ('2014-09-20', 181),\n",
       " ('2014-09-21', 142),\n",
       " ('2014-09-22', 132),\n",
       " ('2014-09-23', 145),\n",
       " ('2014-09-24', 151),\n",
       " ('2014-09-25', 134),\n",
       " ('2014-09-26', 150),\n",
       " ('2014-09-27', 175),\n",
       " ('2014-09-28', 160),\n",
       " ('2014-09-29', 122),\n",
       " ('2014-09-30', 141),\n",
       " ('2014-10-01', 159),\n",
       " ('2014-10-02', 175),\n",
       " ('2014-10-03', 177),\n",
       " ('2014-10-04', 171),\n",
       " ('2014-10-05', 144),\n",
       " ('2014-10-06', 153),\n",
       " ('2014-10-07', 162),\n",
       " ('2014-10-08', 180),\n",
       " ('2014-10-09', 171),\n",
       " ('2014-10-10', 176),\n",
       " ('2014-10-11', 192),\n",
       " ('2014-10-12', 170),\n",
       " ('2014-10-13', 132),\n",
       " ('2014-10-14', 155),\n",
       " ('2014-10-15', 168),\n",
       " ('2014-10-16', 171),\n",
       " ('2014-10-17', 187),\n",
       " ('2014-10-18', 191),\n",
       " ('2014-10-19', 173),\n",
       " ('2014-10-20', 156),\n",
       " ('2014-10-21', 170),\n",
       " ('2014-10-22', 155),\n",
       " ('2014-10-23', 191),\n",
       " ('2014-10-24', 185),\n",
       " ('2014-10-25', 162),\n",
       " ('2014-10-26', 153),\n",
       " ('2014-10-27', 155),\n",
       " ('2014-10-28', 155),\n",
       " ('2014-10-29', 162),\n",
       " ('2014-10-30', 168),\n",
       " ('2014-10-31', 199),\n",
       " ('2014-11-01', 184),\n",
       " ('2014-11-02', 148),\n",
       " ('2014-11-03', 160),\n",
       " ('2014-11-04', 151),\n",
       " ('2014-11-05', 186),\n",
       " ('2014-11-06', 190),\n",
       " ('2014-11-07', 160),\n",
       " ('2014-11-08', 201),\n",
       " ('2014-11-09', 149),\n",
       " ('2014-11-10', 136),\n",
       " ('2014-11-11', 147),\n",
       " ('2014-11-12', 175),\n",
       " ('2014-11-13', 163),\n",
       " ('2014-11-14', 162),\n",
       " ('2014-11-15', 170),\n",
       " ('2014-11-16', 135),\n",
       " ('2014-11-17', 162),\n",
       " ('2014-11-18', 164),\n",
       " ('2014-11-19', 143),\n",
       " ('2014-11-20', 165),\n",
       " ('2014-11-21', 178),\n",
       " ('2014-11-22', 209),\n",
       " ('2014-11-23', 151),\n",
       " ('2014-11-24', 142),\n",
       " ('2014-11-25', 160),\n",
       " ('2014-11-26', 130),\n",
       " ('2014-11-27', 97),\n",
       " ('2014-11-28', 124),\n",
       " ('2014-11-29', 142),\n",
       " ('2014-11-30', 118),\n",
       " ('2014-12-01', 139),\n",
       " ('2014-12-02', 149),\n",
       " ('2014-12-03', 145),\n",
       " ('2014-12-04', 170),\n",
       " ('2014-12-05', 201),\n",
       " ('2014-12-06', 164),\n",
       " ('2014-12-07', 146),\n",
       " ('2014-12-08', 162),\n",
       " ('2014-12-09', 154),\n",
       " ('2014-12-10', 184),\n",
       " ('2014-12-11', 174),\n",
       " ('2014-12-12', 190),\n",
       " ('2014-12-13', 177),\n",
       " ('2014-12-14', 163),\n",
       " ('2014-12-15', 160),\n",
       " ('2014-12-16', 152),\n",
       " ('2014-12-17', 167),\n",
       " ('2014-12-18', 165),\n",
       " ('2014-12-19', 172),\n",
       " ('2014-12-20', 183),\n",
       " ('2014-12-21', 150),\n",
       " ('2014-12-22', 135),\n",
       " ('2014-12-23', 134),\n",
       " ('2014-12-24', 121),\n",
       " ('2014-12-25', 76),\n",
       " ('2014-12-26', 100),\n",
       " ('2014-12-27', 129),\n",
       " ('2014-12-28', 106),\n",
       " ('2014-12-29', 124),\n",
       " ('2014-12-30', 131),\n",
       " ('2014-12-31', 139)]"
      ]
     },
     "execution_count": 56,
     "metadata": {},
     "output_type": "execute_result"
    }
   ],
   "source": [
    "engine.execute(QUERY_5).fetchall()"
   ]
  },
  {
   "cell_type": "code",
   "execution_count": null,
   "id": "18f2d45a",
   "metadata": {},
   "outputs": [],
   "source": [
    "write_query_to_file(QUERY_5, \"windest_trips.sql\")"
   ]
  },
  {
   "cell_type": "code",
   "execution_count": null,
   "id": "821d67f8",
   "metadata": {},
   "outputs": [],
   "source": [
    "QUERY_6 = \"\"\"\n",
    "SELECT weathers.DATE, weathers.HOUR, weathers.HourlyPrecipitation, weathers.HourlyWindSpeed, trips.numbers\n",
    "FROM\n",
    "(\n",
    "SELECT strftime ('%Y-%m-%d',Date) AS DATE, strftime ('%H',Date) AS HOUR, HourlyPrecipitation, HourlyWindSpeed\n",
    "FROM hourly_weathers \n",
    "WHERE DATE BETWEEN '2012-10-22' AND '2012-11-07'\n",
    "GROUP BY strftime ('%Y-%m-%d',Date), strftime ('%H', Date), HourlyPrecipitation, HourlyWindSpeed\n",
    ") weathers\n",
    "LEFT JOIN\n",
    "(\n",
    "SELECT strftime ('%Y-%m-%d',pickup_datetime) AS DATE, strftime ('%H',pickup_datetime) AS HOUR, COUNT(strftime ('%H',pickup_datetime)) as numbers FROM taxi_trips\n",
    "WHERE DATE BETWEEN '2012-10-22' AND '2012-11-07'\n",
    "GROUP BY strftime ('%Y-%m-%d',pickup_datetime), strftime ('%H',pickup_datetime) \n",
    "union all\n",
    "SELECT strftime ('%Y-%m-%d',pickup_datetime) AS DATE, strftime ('%H',pickup_datetime) AS HOUR, COUNT(strftime ('%H',pickup_datetime)) as numbers FROM uber_trips\n",
    "WHERE DATE BETWEEN '2012-10-22' AND '2012-11-07'\n",
    "GROUP BY strftime ('%Y-%m-%d',pickup_datetime), strftime ('%H',pickup_datetime) \n",
    ") trips\n",
    "ON trips.DATE = weathers.DATE AND trips.HOUR = weathers.HOUR\n",
    "GROUP BY weathers.DATE, weathers.HOUR, weathers.HourlyPrecipitation, weathers.HourlyWindSpeed, trips.numbers\n",
    "\"\"\""
   ]
  },
  {
   "cell_type": "code",
   "execution_count": null,
   "id": "2031c0bf",
   "metadata": {},
   "outputs": [
    {
     "data": {
      "text/plain": [
       "[('2012-10-22', '00', 0.0, 7.0, 2),\n",
       " ('2012-10-22', '01', 0.0, 5.0, 1),\n",
       " ('2012-10-22', '02', 0.0, 7.0, 1),\n",
       " ('2012-10-22', '03', 0.0, 0.0, 1),\n",
       " ('2012-10-22', '03', 0.0, 0.0, 2),\n",
       " ('2012-10-22', '04', 0.0, 0.0, None),\n",
       " ('2012-10-22', '05', 0.0, 0.0, 1),\n",
       " ('2012-10-22', '06', 0.0, 5.0, 3),\n",
       " ('2012-10-22', '07', 0.0, 3.0, 5),\n",
       " ('2012-10-22', '07', 0.0, 3.0, 7),\n",
       " ('2012-10-22', '08', 0.0, 3.0, 1),\n",
       " ('2012-10-22', '09', 0.0, 5.0, 4),\n",
       " ('2012-10-22', '09', 0.0, 5.0, 5),\n",
       " ('2012-10-22', '12', 0.0, 11.0, 4),\n",
       " ('2012-10-22', '12', 0.0, 11.0, 5),\n",
       " ('2012-10-22', '14', 0.0, 7.0, 1),\n",
       " ('2012-10-22', '14', 0.0, 7.0, 4),\n",
       " ('2012-10-22', '15', 0.0, 6.0, 1),\n",
       " ('2012-10-22', '15', 0.0, 6.0, 6),\n",
       " ('2012-10-22', '16', 0.0, 3.0, 4),\n",
       " ('2012-10-22', '16', 0.0, 3.0, 6),\n",
       " ('2012-10-22', '17', 0.0, 7.0, 2),\n",
       " ('2012-10-22', '17', 0.0, 7.0, 4),\n",
       " ('2012-10-22', '18', 0.0, 5.0, 1),\n",
       " ('2012-10-22', '18', 0.0, 5.0, 8),\n",
       " ('2012-10-22', '19', 0.0, 5.0, 2),\n",
       " ('2012-10-22', '19', 0.0, 5.0, 9),\n",
       " ('2012-10-22', '20', 0.0, 3.0, 4),\n",
       " ('2012-10-22', '20', 0.0, 3.0, 7),\n",
       " ('2012-10-22', '21', 0.0, 0.0, 1),\n",
       " ('2012-10-22', '21', 0.0, 0.0, 5),\n",
       " ('2012-10-22', '22', 0.0, 3.0, 2),\n",
       " ('2012-10-22', '22', 0.0, 3.0, 6),\n",
       " ('2012-10-22', '23', 0.0, 3.0, 6),\n",
       " ('2012-10-23', '00', 0.0, 3.0, 2),\n",
       " ('2012-10-23', '01', 0.0, 0.0, 1),\n",
       " ('2012-10-23', '01', 0.0, 0.0, 2),\n",
       " ('2012-10-23', '02', 0.0, 3.0, 1),\n",
       " ('2012-10-23', '03', 0.0, 0.0, None),\n",
       " ('2012-10-23', '04', 0.0, 3.0, 1),\n",
       " ('2012-10-23', '05', 0.0, 0.0, 2),\n",
       " ('2012-10-23', '06', 0.0, 0.0, 2),\n",
       " ('2012-10-23', '07', 0.0, 0.0, 4),\n",
       " ('2012-10-23', '07', 0.0, 0.0, 7),\n",
       " ('2012-10-23', '08', 0.0, 0.0, 6),\n",
       " ('2012-10-23', '08', 0.0, 0.0, 8),\n",
       " ('2012-10-23', '09', 0.0, 3.0, 4),\n",
       " ('2012-10-23', '09', 0.0, 3.0, 5),\n",
       " ('2012-10-23', '10', 0.0, 0.0, 5),\n",
       " ('2012-10-23', '10', 0.0, 0.0, 7),\n",
       " ('2012-10-23', '11', 0.0, 3.0, 6),\n",
       " ('2012-10-23', '11', 0.0, 3.0, 10),\n",
       " ('2012-10-23', '12', 0.0, 0.0, 1),\n",
       " ('2012-10-23', '12', 0.0, 0.0, 7),\n",
       " ('2012-10-23', '16', 0.0, 3.0, 1),\n",
       " ('2012-10-23', '16', 0.0, 3.0, 7),\n",
       " ('2012-10-23', '18', 0.0, 5.0, 5),\n",
       " ('2012-10-23', '18', 0.0, 5.0, 7),\n",
       " ('2012-10-23', '19', 0.0, 0.0, 2),\n",
       " ('2012-10-23', '19', 0.0, 0.0, 9),\n",
       " ('2012-10-23', '20', 0.019999999552965164, 0.0, 8),\n",
       " ('2012-10-23', '20', 0.019999999552965164, 0.0, 9),\n",
       " ('2012-10-23', '21', 0.0, 5.0, 2),\n",
       " ('2012-10-23', '21', 0.0, 5.0, 4),\n",
       " ('2012-10-23', '22', 0.009999999776482582, 0.0, 5),\n",
       " ('2012-10-23', '22', 0.009999999776482582, 0.0, 6),\n",
       " ('2012-10-23', '23', 0.0, 5.0, 3),\n",
       " ('2012-10-23', '23', 0.0, 5.0, 6),\n",
       " ('2012-10-24', '00', 0.0, 3.0, 2),\n",
       " ('2012-10-24', '01', 0.0, 5.0, 1),\n",
       " ('2012-10-24', '01', 0.0, 6.0, 1),\n",
       " ('2012-10-24', '02', 0.0, 5.0, 2),\n",
       " ('2012-10-24', '02', 0.0, 5.0, 4),\n",
       " ('2012-10-24', '02', 0.0, 6.0, 2),\n",
       " ('2012-10-24', '02', 0.0, 6.0, 4),\n",
       " ('2012-10-24', '02', 0.0, 7.0, 2),\n",
       " ('2012-10-24', '02', 0.0, 7.0, 4),\n",
       " ('2012-10-24', '03', 0.0, 7.0, 1),\n",
       " ('2012-10-24', '04', 0.0, 7.0, None),\n",
       " ('2012-10-24', '05', 0.0, 6.0, 2),\n",
       " ('2012-10-24', '06', 0.0, 3.0, 6),\n",
       " ('2012-10-24', '06', 0.0, 5.0, 6),\n",
       " ('2012-10-24', '07', 0.0, 0.0, 1),\n",
       " ('2012-10-24', '07', 0.0, 0.0, 8),\n",
       " ('2012-10-24', '07', 0.0, 5.0, 1),\n",
       " ('2012-10-24', '07', 0.0, 5.0, 8),\n",
       " ('2012-10-24', '08', 0.0, 0.0, 2),\n",
       " ('2012-10-24', '08', 0.0, 0.0, 4),\n",
       " ('2012-10-24', '09', 0.0, 0.0, 2),\n",
       " ('2012-10-24', '09', 0.0, 0.0, 4),\n",
       " ('2012-10-24', '09', 0.0, 3.0, 2),\n",
       " ('2012-10-24', '09', 0.0, 3.0, 4),\n",
       " ('2012-10-24', '10', 0.0, 7.0, 2),\n",
       " ('2012-10-24', '10', 0.0, 7.0, 3),\n",
       " ('2012-10-24', '11', 0.0, 7.0, 4),\n",
       " ('2012-10-24', '11', 0.0, 7.0, 5),\n",
       " ('2012-10-24', '12', 0.0, 7.0, 3),\n",
       " ('2012-10-24', '12', 0.0, 8.0, 3),\n",
       " ('2012-10-24', '13', 0.0, 8.0, 4),\n",
       " ('2012-10-24', '14', 0.0, 6.0, 2),\n",
       " ('2012-10-24', '14', 0.0, 6.0, 3),\n",
       " ('2012-10-24', '14', 0.0, 7.0, 2),\n",
       " ('2012-10-24', '14', 0.0, 7.0, 3),\n",
       " ('2012-10-24', '15', 0.0, 7.0, 4),\n",
       " ('2012-10-24', '15', 0.0, 7.0, 5),\n",
       " ('2012-10-24', '16', 0.0, 8.0, 2),\n",
       " ('2012-10-24', '17', 0.0, 5.0, 5),\n",
       " ('2012-10-24', '18', 0.0, 7.0, 4),\n",
       " ('2012-10-24', '18', 0.0, 7.0, 5),\n",
       " ('2012-10-24', '19', 0.0, 8.0, 5),\n",
       " ('2012-10-24', '19', 0.0, 8.0, 10),\n",
       " ('2012-10-24', '20', 0.0, 0.0, 4),\n",
       " ('2012-10-24', '20', 0.0, 0.0, 7),\n",
       " ('2012-10-24', '20', 0.0, 3.0, 4),\n",
       " ('2012-10-24', '20', 0.0, 3.0, 7),\n",
       " ('2012-10-24', '21', 0.0, 3.0, 5),\n",
       " ('2012-10-24', '21', 0.0, 3.0, 7),\n",
       " ('2012-10-24', '21', 0.0, 5.0, 5),\n",
       " ('2012-10-24', '21', 0.0, 5.0, 7),\n",
       " ('2012-10-24', '22', 0.0, 5.0, 5),\n",
       " ('2012-10-24', '22', 0.0, 5.0, 6),\n",
       " ('2012-10-24', '22', 0.0, 6.0, 5),\n",
       " ('2012-10-24', '22', 0.0, 6.0, 6),\n",
       " ('2012-10-24', '23', 0.0, 0.0, 3),\n",
       " ('2012-10-24', '23', 0.0, 0.0, 4),\n",
       " ('2012-10-25', '00', 0.0, 3.0, 2),\n",
       " ('2012-10-25', '00', 0.0, 3.0, 5),\n",
       " ('2012-10-25', '00', 0.0, 6.0, 2),\n",
       " ('2012-10-25', '00', 0.0, 6.0, 5),\n",
       " ('2012-10-25', '01', 0.0, 3.0, 1),\n",
       " ('2012-10-25', '01', 0.0, 3.0, 3),\n",
       " ('2012-10-25', '02', 0.0, 3.0, 2),\n",
       " ('2012-10-25', '02', 0.0, 3.0, 4),\n",
       " ('2012-10-25', '03', 0.0, 6.0, 1),\n",
       " ('2012-10-25', '03', 0.0, 7.0, 1),\n",
       " ('2012-10-25', '04', 0.0, 6.0, 1),\n",
       " ('2012-10-25', '05', 0.0, 0.0, 2),\n",
       " ('2012-10-25', '06', 0.0, 5.0, 1),\n",
       " ('2012-10-25', '06', 0.0, 5.0, 4),\n",
       " ('2012-10-25', '07', 0.0, 6.0, 3),\n",
       " ('2012-10-25', '07', 0.0, 6.0, 4),\n",
       " ('2012-10-25', '08', 0.0, 5.0, 3),\n",
       " ('2012-10-25', '08', 0.0, 5.0, 6),\n",
       " ('2012-10-25', '09', 0.0, 3.0, 2),\n",
       " ('2012-10-25', '09', 0.0, 3.0, 5),\n",
       " ('2012-10-25', '10', 0.0, 6.0, 2),\n",
       " ('2012-10-25', '10', 0.0, 6.0, 4),\n",
       " ('2012-10-25', '11', 0.0, 0.0, 4),\n",
       " ('2012-10-25', '11', 0.0, 0.0, 5),\n",
       " ('2012-10-25', '12', 0.0, 6.0, 5),\n",
       " ('2012-10-25', '12', 0.0, 6.0, 7),\n",
       " ('2012-10-25', '13', 0.0, 0.0, 3),\n",
       " ('2012-10-25', '13', 0.0, 0.0, 4),\n",
       " ('2012-10-25', '14', 0.0, 5.0, 1),\n",
       " ('2012-10-25', '14', 0.0, 5.0, 3),\n",
       " ('2012-10-25', '15', 0.0, 5.0, 5),\n",
       " ('2012-10-25', '15', 0.0, 5.0, 7),\n",
       " ('2012-10-25', '16', 0.0, 0.0, 1),\n",
       " ('2012-10-25', '17', 0.0, 3.0, 4),\n",
       " ('2012-10-25', '17', 0.0, 3.0, 5),\n",
       " ('2012-10-25', '18', 0.0, 0.0, 4),\n",
       " ('2012-10-25', '18', 0.0, 0.0, 7),\n",
       " ('2012-10-25', '19', 0.0, 0.0, 1),\n",
       " ('2012-10-25', '19', 0.0, 0.0, 5),\n",
       " ('2012-10-25', '20', 0.0, 3.0, 7),\n",
       " ('2012-10-25', '20', 0.0, 3.0, 13),\n",
       " ('2012-10-25', '21', 0.0, 3.0, 8),\n",
       " ('2012-10-25', '21', 0.0, 3.0, 9),\n",
       " ('2012-10-25', '22', 0.0, 3.0, 6),\n",
       " ('2012-10-25', '23', 0.0, 0.0, 3),\n",
       " ('2012-10-25', '23', 0.0, 0.0, 7),\n",
       " ('2012-10-26', '00', 0.0, 0.0, 2),\n",
       " ('2012-10-26', '00', 0.0, 0.0, 6),\n",
       " ('2012-10-26', '00', 0.0, 3.0, 2),\n",
       " ('2012-10-26', '00', 0.0, 3.0, 6),\n",
       " ('2012-10-26', '00', 0.0, 5.0, 2),\n",
       " ('2012-10-26', '00', 0.0, 5.0, 6),\n",
       " ('2012-10-26', '01', 0.0, 0.0, 1),\n",
       " ('2012-10-26', '01', 0.0, 0.0, 2),\n",
       " ('2012-10-26', '02', 0.0, 0.0, 2),\n",
       " ('2012-10-26', '02', 0.0, 0.0, 3),\n",
       " ('2012-10-26', '03', 0.0, 3.0, 1),\n",
       " ('2012-10-26', '03', 0.0, 3.0, 2),\n",
       " ('2012-10-26', '04', 0.0, 0.0, 2),\n",
       " ('2012-10-26', '05', 0.0, 0.0, 1),\n",
       " ('2012-10-26', '06', 0.0, 0.0, 5),\n",
       " ('2012-10-26', '07', 0.0, 3.0, 4),\n",
       " ('2012-10-26', '07', 0.0, 3.0, 6),\n",
       " ('2012-10-26', '08', 0.0, 3.0, 5),\n",
       " ('2012-10-26', '09', 0.0, 3.0, 7),\n",
       " ('2012-10-26', '10', 0.0, 3.0, 2),\n",
       " ('2012-10-26', '10', 0.0, 3.0, 3),\n",
       " ('2012-10-26', '11', 0.0, 3.0, 4),\n",
       " ('2012-10-26', '11', 0.0, 3.0, 6),\n",
       " ('2012-10-26', '12', 0.0, 0.0, 2),\n",
       " ('2012-10-26', '12', 0.0, 0.0, 6),\n",
       " ('2012-10-26', '13', 0.0, 3.0, 2),\n",
       " ('2012-10-26', '13', 0.0, 3.0, 7),\n",
       " ('2012-10-26', '14', 0.0, 3.0, 3),\n",
       " ('2012-10-26', '14', 0.0, 3.0, 5),\n",
       " ('2012-10-26', '15', 0.0, 0.0, 1),\n",
       " ('2012-10-26', '15', 0.0, 0.0, 3),\n",
       " ('2012-10-26', '16', 0.0, 0.0, 2),\n",
       " ('2012-10-26', '16', 0.0, 0.0, 4),\n",
       " ('2012-10-26', '17', 0.0, 0.0, 3),\n",
       " ('2012-10-26', '17', 0.0, 0.0, 6),\n",
       " ('2012-10-26', '18', 0.0, 0.0, 3),\n",
       " ('2012-10-26', '18', 0.0, 0.0, 5),\n",
       " ('2012-10-26', '19', 0.0, 0.0, 3),\n",
       " ('2012-10-26', '19', 0.0, 0.0, 5),\n",
       " ('2012-10-26', '20', 0.0, 3.0, 5),\n",
       " ('2012-10-26', '20', 0.0, 3.0, 10),\n",
       " ('2012-10-26', '21', 0.0, 3.0, 2),\n",
       " ('2012-10-26', '21', 0.0, 3.0, 4),\n",
       " ('2012-10-26', '22', 0.0, 0.0, 2),\n",
       " ('2012-10-26', '22', 0.0, 0.0, 8),\n",
       " ('2012-10-26', '23', 0.0, 0.0, 4),\n",
       " ('2012-10-26', '23', 0.0, 0.0, 5),\n",
       " ('2012-10-27', '00', 0.0, 3.0, 2),\n",
       " ('2012-10-27', '00', 0.0, 3.0, 6),\n",
       " ('2012-10-27', '01', 0.0, 0.0, 2),\n",
       " ('2012-10-27', '01', 0.0, 0.0, 3),\n",
       " ('2012-10-27', '02', 0.0, 3.0, 5),\n",
       " ('2012-10-27', '02', 0.0, 3.0, 6),\n",
       " ('2012-10-27', '03', 0.0, 0.0, 4),\n",
       " ('2012-10-27', '04', 0.0, 6.0, 3),\n",
       " ('2012-10-27', '05', 0.0, 6.0, 2),\n",
       " ('2012-10-27', '05', 0.0, 6.0, 5),\n",
       " ('2012-10-27', '06', 0.0, 6.0, 1),\n",
       " ('2012-10-27', '07', 0.0, 3.0, 1),\n",
       " ('2012-10-27', '07', 0.0, 3.0, 2),\n",
       " ('2012-10-27', '07', 0.0, 5.0, 1),\n",
       " ('2012-10-27', '07', 0.0, 5.0, 2),\n",
       " ('2012-10-27', '08', 0.0, 5.0, 4),\n",
       " ('2012-10-27', '08', 0.0, 8.0, 4),\n",
       " ('2012-10-27', '09', 0.0, 6.0, 1),\n",
       " ('2012-10-27', '09', 0.0, 6.0, 6),\n",
       " ('2012-10-27', '10', 0.0, 7.0, 2),\n",
       " ('2012-10-27', '10', 0.0, 7.0, 6),\n",
       " ('2012-10-27', '10', 0.0, 9.0, 2),\n",
       " ('2012-10-27', '10', 0.0, 9.0, 6),\n",
       " ('2012-10-27', '11', 0.0, 5.0, 1),\n",
       " ('2012-10-27', '11', 0.0, 5.0, 3),\n",
       " ('2012-10-27', '11', 0.0, 6.0, 1),\n",
       " ('2012-10-27', '11', 0.0, 6.0, 3),\n",
       " ('2012-10-27', '11', 0.0, 7.0, 1),\n",
       " ('2012-10-27', '11', 0.0, 7.0, 3),\n",
       " ('2012-10-27', '12', 0.0, 8.0, 5),\n",
       " ('2012-10-27', '12', 0.0, 8.0, 6),\n",
       " ('2012-10-27', '13', 0.0, 8.0, 2),\n",
       " ('2012-10-27', '13', 0.0, 8.0, 7),\n",
       " ('2012-10-27', '14', 0.0, 10.0, 3),\n",
       " ('2012-10-27', '14', 0.0, 10.0, 5),\n",
       " ('2012-10-27', '15', 0.0, 10.0, 3),\n",
       " ('2012-10-27', '16', 0.0, 7.0, 8),\n",
       " ('2012-10-27', '16', 0.0, 7.0, 9),\n",
       " ('2012-10-27', '17', 0.0, 7.0, 10),\n",
       " ('2012-10-27', '17', 0.0, 7.0, 11),\n",
       " ('2012-10-27', '18', 0.0, 7.0, 7),\n",
       " ('2012-10-27', '18', 0.0, 7.0, 8),\n",
       " ('2012-10-27', '19', 0.0, 7.0, 3),\n",
       " ('2012-10-27', '19', 0.0, 7.0, 6),\n",
       " ('2012-10-27', '19', 0.0, 8.0, 3),\n",
       " ('2012-10-27', '19', 0.0, 8.0, 6),\n",
       " ('2012-10-27', '19', 0.0, 9.0, 3),\n",
       " ('2012-10-27', '19', 0.0, 9.0, 6),\n",
       " ('2012-10-27', '20', 0.0, 7.0, 5),\n",
       " ('2012-10-27', '20', 0.0, 7.0, 9),\n",
       " ('2012-10-27', '21', 0.0, 9.0, 2),\n",
       " ('2012-10-27', '21', 0.0, 9.0, 6),\n",
       " ('2012-10-27', '22', 0.0, 9.0, 1),\n",
       " ('2012-10-27', '22', 0.0, 9.0, 7),\n",
       " ('2012-10-27', '23', 0.0, 8.0, 6),\n",
       " ('2012-10-27', '23', 0.0, 8.0, 8),\n",
       " ('2012-10-28', '00', 0.0, 11.0, 5),\n",
       " ('2012-10-28', '00', 0.0, 11.0, 6),\n",
       " ('2012-10-28', '01', 0.0, 8.0, 8),\n",
       " ('2012-10-28', '02', 0.0, 8.0, 3),\n",
       " ('2012-10-28', '02', 0.0, 8.0, 11),\n",
       " ('2012-10-28', '03', 0.0, 9.0, 1),\n",
       " ('2012-10-28', '03', 0.0, 9.0, 3),\n",
       " ('2012-10-28', '04', 0.0, 10.0, 1),\n",
       " ('2012-10-28', '04', 0.0, 10.0, 4),\n",
       " ('2012-10-28', '05', 0.0, 11.0, 1),\n",
       " ('2012-10-28', '06', 0.0, 10.0, 1),\n",
       " ('2012-10-28', '07', 0.0, 11.0, 1),\n",
       " ('2012-10-28', '07', 0.0, 11.0, 2),\n",
       " ('2012-10-28', '08', 0.0, 11.0, 1),\n",
       " ('2012-10-28', '08', 0.0, 11.0, 4),\n",
       " ('2012-10-28', '09', 0.0, 11.0, 1),\n",
       " ('2012-10-28', '09', 0.0, 11.0, 4),\n",
       " ('2012-10-28', '10', 0.0, 10.0, 2),\n",
       " ('2012-10-28', '10', 0.0, 10.0, 5),\n",
       " ('2012-10-28', '11', 0.0, 8.0, 3),\n",
       " ('2012-10-28', '11', 0.0, 8.0, 5),\n",
       " ('2012-10-28', '12', 0.0, 7.0, 2),\n",
       " ('2012-10-28', '12', 0.0, 7.0, 5),\n",
       " ('2012-10-28', '13', 0.0, 13.0, 3),\n",
       " ('2012-10-28', '13', 0.0, 13.0, 4),\n",
       " ('2012-10-28', '14', 0.0, 13.0, 5),\n",
       " ('2012-10-28', '14', 0.0, 13.0, 6),\n",
       " ('2012-10-28', '15', 0.0, 13.0, 5),\n",
       " ('2012-10-28', '15', 0.0, 13.0, 6),\n",
       " ('2012-10-28', '16', 0.0, 16.0, 4),\n",
       " ('2012-10-28', '16', 0.0, 16.0, 5),\n",
       " ('2012-10-28', '17', 0.0, 11.0, 2),\n",
       " ('2012-10-28', '17', 0.0, 11.0, 4),\n",
       " ('2012-10-28', '18', 0.0, 15.0, 1),\n",
       " ('2012-10-28', '18', 0.0, 15.0, 5),\n",
       " ('2012-10-28', '19', 0.0, 14.0, 3),\n",
       " ('2012-10-28', '20', 0.0, 16.0, 3),\n",
       " ('2012-10-28', '20', 0.0, 16.0, 4),\n",
       " ('2012-10-28', '21', 0.0, 14.0, 3),\n",
       " ('2012-10-28', '21', 0.0, 14.0, 4),\n",
       " ('2012-10-28', '22', 0.0, 16.0, 3),\n",
       " ('2012-10-28', '22', 0.0, 16.0, 4),\n",
       " ('2012-10-28', '23', 0.0, 14.0, 1),\n",
       " ('2012-10-29', '00', 0.0, 16.0, 1),\n",
       " ('2012-10-29', '01', 0.0, 11.0, 2),\n",
       " ('2012-10-29', '02', 0.0, 13.0, 1),\n",
       " ('2012-10-29', '03', 0.0, 17.0, None),\n",
       " ('2012-10-29', '04', 0.0, 15.0, 1),\n",
       " ('2012-10-29', '05', 0.0, 15.0, 1),\n",
       " ('2012-10-29', '06', 0.019999999552965164, 16.0, 1),\n",
       " ('2012-10-29', '07', 0.019999999552965164, 17.0, 1),\n",
       " ('2012-10-29', '08', 0.0, 21.0, None),\n",
       " ('2012-10-29', '09', 0.0, 16.0, 1),\n",
       " ('2012-10-29', '11', 0.0, 17.0, 1),\n",
       " ('2012-10-29', '11', 0.0, 17.0, 3),\n",
       " ('2012-10-29', '11', 0.0, 21.0, 1),\n",
       " ('2012-10-29', '11', 0.0, 21.0, 3),\n",
       " ('2012-10-29', '11', 0.009999999776482582, 15.0, 1),\n",
       " ('2012-10-29', '11', 0.009999999776482582, 15.0, 3),\n",
       " ('2012-10-29', '11', 0.05000000074505806, 17.0, 1),\n",
       " ('2012-10-29', '11', 0.05000000074505806, 17.0, 3),\n",
       " ('2012-10-29', '12', 0.019999999552965164, 15.0, 2),\n",
       " ('2012-10-29', '12', 0.019999999552965164, 15.0, 4),\n",
       " ('2012-10-29', '12', 0.029999999329447746, 21.0, 2),\n",
       " ('2012-10-29', '12', 0.029999999329447746, 21.0, 4),\n",
       " ('2012-10-29', '12', 0.03999999910593033, 18.0, 2),\n",
       " ('2012-10-29', '12', 0.03999999910593033, 18.0, 4),\n",
       " ('2012-10-29', '12', 0.05000000074505806, 22.0, 2),\n",
       " ('2012-10-29', '12', 0.05000000074505806, 22.0, 4),\n",
       " ('2012-10-29', '12', 0.05999999865889549, 20.0, 2),\n",
       " ('2012-10-29', '12', 0.05999999865889549, 20.0, 4),\n",
       " ('2012-10-29', '13', 0.019999999552965164, 24.0, 1),\n",
       " ('2012-10-29', '13', 0.029999999329447746, 28.0, 1),\n",
       " ('2012-10-29', '13', 0.03999999910593033, 28.0, 1),\n",
       " ('2012-10-29', '14', 0.0, 32.0, 1),\n",
       " ('2012-10-29', '14', 0.0, 32.0, 2),\n",
       " ('2012-10-29', '14', 0.019999999552965164, 24.0, 1),\n",
       " ('2012-10-29', '14', 0.019999999552965164, 24.0, 2),\n",
       " ('2012-10-29', '14', 0.029999999329447746, 23.0, 1),\n",
       " ('2012-10-29', '14', 0.029999999329447746, 23.0, 2),\n",
       " ('2012-10-29', '14', 0.05000000074505806, 28.0, 1),\n",
       " ('2012-10-29', '14', 0.05000000074505806, 28.0, 2),\n",
       " ('2012-10-29', '15', 0.07000000029802322, 26.0, 2),\n",
       " ('2012-10-29', '15', 0.10999999940395355, 24.0, 2),\n",
       " ('2012-10-29', '16', 0.09000000357627869, 30.0, None),\n",
       " ('2012-10-29', '16', 0.10000000149011612, 23.0, None),\n",
       " ('2012-10-29', '16', 0.10999999940395355, 25.0, None),\n",
       " ('2012-10-29', '17', 0.03999999910593033, 29.0, 1),\n",
       " ('2012-10-29', '17', 0.03999999910593033, 29.0, 2),\n",
       " ('2012-10-29', '17', 0.05000000074505806, 14.0, 1),\n",
       " ('2012-10-29', '17', 0.05000000074505806, 14.0, 2),\n",
       " ('2012-10-29', '17', 0.05999999865889549, 18.0, 1),\n",
       " ('2012-10-29', '17', 0.05999999865889549, 18.0, 2),\n",
       " ('2012-10-29', '17', 0.07000000029802322, 25.0, 1),\n",
       " ('2012-10-29', '17', 0.07000000029802322, 25.0, 2),\n",
       " ('2012-10-29', '18', 0.019999999552965164, 21.0, 3),\n",
       " ('2012-10-29', '18', 0.019999999552965164, 25.0, 3),\n",
       " ('2012-10-29', '19', 0.009999999776482582, 25.0, None),\n",
       " ('2012-10-29', '20', 0.0, 17.0, None),\n",
       " ('2012-10-29', '21', 0.0, 15.0, 1),\n",
       " ('2012-10-29', '22', 0.019999999552965164, 9.0, 1),\n",
       " ('2012-10-29', '23', 0.0, 10.0, None),\n",
       " ('2012-10-29', '23', 0.029999999329447746, 7.0, None),\n",
       " ('2012-10-29', '23', 0.05999999865889549, 15.0, None),\n",
       " ('2012-10-29', '23', 0.09000000357627869, 10.0, None),\n",
       " ('2012-10-30', '00', 0.019999999552965164, 10.0, 1),\n",
       " ('2012-10-30', '00', 0.029999999329447746, 13.0, 1),\n",
       " ('2012-10-30', '01', 0.0, 8.0, None),\n",
       " ('2012-10-30', '01', 0.0, 9.0, None),\n",
       " ('2012-10-30', '01', 0.0, 13.0, None),\n",
       " ('2012-10-30', '02', 0.029999999329447746, 9.0, None),\n",
       " ('2012-10-30', '03', 0.03999999910593033, 17.0, None),\n",
       " ('2012-10-30', '04', 0.0, 9.0, 1),\n",
       " ('2012-10-30', '05', 0.009999999776482582, 7.0, None),\n",
       " ('2012-10-30', '06', 0.009999999776482582, 7.0, None),\n",
       " ('2012-10-30', '07', 0.0, 10.0, 1),\n",
       " ('2012-10-30', '08', 0.0, 6.0, None),\n",
       " ('2012-10-30', '08', 0.009999999776482582, 11.0, None),\n",
       " ('2012-10-30', '08', 0.05000000074505806, 7.0, None),\n",
       " ('2012-10-30', '09', 0.009999999776482582, 15.0, 2),\n",
       " ('2012-10-30', '09', 0.05999999865889549, 11.0, 2),\n",
       " ('2012-10-30', '09', 0.09000000357627869, 10.0, 2),\n",
       " ('2012-10-30', '10', 0.019999999552965164, 8.0, 2),\n",
       " ('2012-10-30', '10', 0.019999999552965164, 8.0, 3),\n",
       " ('2012-10-30', '10', 0.019999999552965164, 10.0, 2),\n",
       " ('2012-10-30', '10', 0.019999999552965164, 10.0, 3),\n",
       " ('2012-10-30', '10', 0.029999999329447746, 6.0, 2),\n",
       " ('2012-10-30', '10', 0.029999999329447746, 6.0, 3),\n",
       " ('2012-10-30', '11', 0.0, 7.0, 3),\n",
       " ('2012-10-30', '12', 0.0, 7.0, 2),\n",
       " ('2012-10-30', '12', 0.0, 7.0, 3),\n",
       " ('2012-10-30', '12', 0.0, 9.0, 2),\n",
       " ('2012-10-30', '12', 0.0, 9.0, 3),\n",
       " ('2012-10-30', '13', 0.0, 5.0, 2),\n",
       " ('2012-10-30', '13', 0.0, 5.0, 3),\n",
       " ('2012-10-30', '13', 0.0, 6.0, 2),\n",
       " ('2012-10-30', '13', 0.0, 6.0, 3),\n",
       " ('2012-10-30', '13', 0.0, 7.0, 2),\n",
       " ('2012-10-30', '13', 0.0, 7.0, 3),\n",
       " ('2012-10-30', '16', 0.009999999776482582, 3.0, 1),\n",
       " ('2012-10-30', '16', 0.009999999776482582, 3.0, 4),\n",
       " ('2012-10-30', '16', 0.009999999776482582, 5.0, 1),\n",
       " ('2012-10-30', '16', 0.009999999776482582, 5.0, 4),\n",
       " ('2012-10-30', '16', 0.009999999776482582, 6.0, 1),\n",
       " ('2012-10-30', '16', 0.009999999776482582, 6.0, 4),\n",
       " ('2012-10-30', '17', 0.0, 5.0, 2),\n",
       " ('2012-10-30', '17', 0.0, 5.0, 3),\n",
       " ('2012-10-30', '17', 0.0, 6.0, 2),\n",
       " ('2012-10-30', '17', 0.0, 6.0, 3),\n",
       " ('2012-10-30', '18', 0.0, 5.0, 2),\n",
       " ('2012-10-30', '18', 0.0, 5.0, 6),\n",
       " ('2012-10-30', '19', 0.0, 3.0, 1),\n",
       " ('2012-10-30', '19', 0.0, 3.0, 4),\n",
       " ('2012-10-30', '20', 0.0, 0.0, 2),\n",
       " ('2012-10-30', '20', 0.0, 0.0, 4),\n",
       " ('2012-10-30', '20', 0.0, 7.0, 2),\n",
       " ('2012-10-30', '20', 0.0, 7.0, 4),\n",
       " ('2012-10-30', '21', 0.0, 5.0, 2),\n",
       " ('2012-10-30', '21', 0.0, 5.0, 3),\n",
       " ('2012-10-30', '22', 0.0, 7.0, 1),\n",
       " ('2012-10-30', '22', 0.0, 7.0, 3),\n",
       " ('2012-10-30', '23', 0.0, 5.0, 2),\n",
       " ('2012-10-30', '23', 0.0, 9.0, 2),\n",
       " ('2012-10-31', '00', 0.0, 0.0, 2),\n",
       " ('2012-10-31', '00', 0.0, 3.0, 2),\n",
       " ('2012-10-31', '00', 0.0, 5.0, 2),\n",
       " ('2012-10-31', '01', 0.009999999776482582, 5.0, None),\n",
       " ('2012-10-31', '02', 0.0, 0.0, 1),\n",
       " ('2012-10-31', '02', 0.0, 0.0, 3),\n",
       " ('2012-10-31', '03', 0.0, 8.0, None),\n",
       " ('2012-10-31', '05', 0.0, 0.0, None),\n",
       " ('2012-10-31', '06', 0.0, 6.0, 2),\n",
       " ('2012-10-31', '06', 0.0, 6.0, 4),\n",
       " ('2012-10-31', '07', 0.0, 8.0, 3),\n",
       " ('2012-10-31', '07', 0.0, 8.0, 6),\n",
       " ('2012-10-31', '08', 0.0, 6.0, 1),\n",
       " ('2012-10-31', '08', 0.0, 6.0, 4),\n",
       " ('2012-10-31', '08', 0.0, 7.0, 1),\n",
       " ('2012-10-31', '08', 0.0, 7.0, 4),\n",
       " ('2012-10-31', '08', 0.0, 10.0, 1),\n",
       " ('2012-10-31', '08', 0.0, 10.0, 4),\n",
       " ('2012-10-31', '09', 0.0, 6.0, 2),\n",
       " ('2012-10-31', '09', 0.0, 6.0, 3),\n",
       " ('2012-10-31', '09', 0.0, 8.0, 2),\n",
       " ('2012-10-31', '09', 0.0, 8.0, 3),\n",
       " ('2012-10-31', '10', 0.0, 3.0, 2),\n",
       " ('2012-10-31', '10', 0.0, 3.0, 4),\n",
       " ('2012-10-31', '10', 0.0, 5.0, 2),\n",
       " ('2012-10-31', '10', 0.0, 5.0, 4),\n",
       " ('2012-10-31', '11', 0.0, 5.0, 3),\n",
       " ('2012-10-31', '12', 0.0, 3.0, 7),\n",
       " ('2012-10-31', '12', 0.0, 9.0, 7),\n",
       " ('2012-10-31', '13', 0.0, 6.0, 2),\n",
       " ('2012-10-31', '14', 0.0, 5.0, 3),\n",
       " ('2012-10-31', '14', 0.0, 5.0, 6),\n",
       " ('2012-10-31', '15', 0.0, 3.0, 2),\n",
       " ('2012-10-31', '16', 0.0, 5.0, 2),\n",
       " ('2012-10-31', '17', 0.0, 5.0, 2),\n",
       " ('2012-10-31', '18', 0.0, 3.0, 1),\n",
       " ('2012-10-31', '18', 0.0, 3.0, 6),\n",
       " ('2012-10-31', '19', 0.0, 9.0, 3),\n",
       " ('2012-10-31', '19', 0.0, 9.0, 5),\n",
       " ('2012-10-31', '20', 0.0, 7.0, 1),\n",
       " ('2012-10-31', '20', 0.0, 7.0, 5),\n",
       " ('2012-10-31', '21', 0.0, 7.0, 1),\n",
       " ('2012-10-31', '21', 0.0, 7.0, 2),\n",
       " ('2012-10-31', '22', 0.0, 6.0, 4),\n",
       " ('2012-10-31', '23', 0.0, 3.0, 1),\n",
       " ('2012-10-31', '23', 0.0, 3.0, 6),\n",
       " ('2012-11-01', '00', 0.0, 3.0, 2),\n",
       " ('2012-11-01', '01', 0.0, 3.0, 1),\n",
       " ('2012-11-01', '02', 0.0, 3.0, 1),\n",
       " ('2012-11-01', '04', 0.0, 7.0, 1),\n",
       " ('2012-11-01', '05', 0.0, 6.0, 2),\n",
       " ('2012-11-01', '06', 0.0, 13.0, 1),\n",
       " ('2012-11-01', '06', 0.0, 13.0, 3),\n",
       " ('2012-11-01', '08', 0.0, 7.0, 2),\n",
       " ('2012-11-01', '09', 0.0, 3.0, 2),\n",
       " ('2012-11-01', '10', 0.0, 6.0, 1),\n",
       " ('2012-11-01', '10', 0.0, 6.0, 5),\n",
       " ('2012-11-01', '11', 0.0, 6.0, 5),\n",
       " ('2012-11-01', '12', 0.0, 11.0, 5),\n",
       " ('2012-11-01', '13', 0.0, 8.0, 2),\n",
       " ('2012-11-01', '14', 0.0, 8.0, 2),\n",
       " ('2012-11-01', '14', 0.0, 8.0, 4),\n",
       " ('2012-11-01', '16', 0.0, 5.0, 1),\n",
       " ('2012-11-01', '16', 0.0, 5.0, 2),\n",
       " ('2012-11-01', '17', 0.0, 5.0, 2),\n",
       " ('2012-11-01', '17', 0.0, 5.0, 4),\n",
       " ('2012-11-01', '18', 0.0, 9.0, 6),\n",
       " ('2012-11-01', '19', 0.0, 3.0, 4),\n",
       " ('2012-11-01', '19', 0.0, 3.0, 6),\n",
       " ('2012-11-01', '20', 0.0, 5.0, 2),\n",
       " ('2012-11-01', '20', 0.0, 5.0, 4),\n",
       " ('2012-11-01', '21', 0.0, 8.0, 1),\n",
       " ('2012-11-01', '21', 0.0, 8.0, 7),\n",
       " ('2012-11-01', '22', 0.0, 5.0, 3),\n",
       " ('2012-11-01', '22', 0.0, 5.0, 4),\n",
       " ('2012-11-01', '23', 0.0, 0.0, 1),\n",
       " ('2012-11-01', '23', 0.0, 0.0, 3),\n",
       " ('2012-11-02', '00', 0.0, 5.0, 3),\n",
       " ('2012-11-02', '00', 0.0, 5.0, 5),\n",
       " ('2012-11-02', '01', 0.0, 7.0, 1),\n",
       " ('2012-11-02', '02', 0.0, 3.0, None),\n",
       " ('2012-11-02', '03', 0.0, 3.0, 1),\n",
       " ('2012-11-02', '04', 0.0, 5.0, None),\n",
       " ('2012-11-02', '05', 0.0, 5.0, 1),\n",
       " ('2012-11-02', '06', 0.0, 6.0, 1),\n",
       " ('2012-11-02', '08', 0.0, 5.0, 2),\n",
       " ('2012-11-02', '08', 0.0, 5.0, 3),\n",
       " ('2012-11-02', '09', 0.0, 7.0, 5),\n",
       " ('2012-11-02', '10', 0.0, 9.0, 2),\n",
       " ('2012-11-02', '11', 0.0, 7.0, 3),\n",
       " ('2012-11-02', '12', 0.0, 7.0, 2),\n",
       " ('2012-11-02', '12', 0.0, 7.0, 3),\n",
       " ('2012-11-02', '13', 0.0, 6.0, 1),\n",
       " ('2012-11-02', '13', 0.0, 6.0, 3),\n",
       " ('2012-11-02', '14', 0.0, 6.0, 1),\n",
       " ('2012-11-02', '14', 0.0, 6.0, 4),\n",
       " ('2012-11-02', '15', 0.0, 5.0, 4),\n",
       " ('2012-11-02', '16', 0.0, 11.0, 3),\n",
       " ('2012-11-02', '16', 0.0, 11.0, 4),\n",
       " ('2012-11-02', '17', 0.0, 8.0, 1),\n",
       " ('2012-11-02', '17', 0.0, 8.0, 4),\n",
       " ('2012-11-02', '18', 0.0, 9.0, 1),\n",
       " ('2012-11-02', '19', 0.0, 7.0, 4),\n",
       " ('2012-11-02', '20', 0.0, 9.0, 5),\n",
       " ('2012-11-02', '20', 0.0, 9.0, 6),\n",
       " ('2012-11-02', '21', 0.0, 7.0, 3),\n",
       " ('2012-11-02', '21', 0.0, 7.0, 6),\n",
       " ('2012-11-02', '22', 0.0, 8.0, 3),\n",
       " ('2012-11-02', '22', 0.0, 8.0, 5),\n",
       " ('2012-11-02', '23', 0.0, 8.0, 3),\n",
       " ('2012-11-02', '23', 0.0, 8.0, 5),\n",
       " ('2012-11-03', '00', 0.0, 7.0, 3),\n",
       " ('2012-11-03', '00', 0.0, 7.0, 7),\n",
       " ('2012-11-03', '01', 0.0, 7.0, 1),\n",
       " ('2012-11-03', '01', 0.0, 7.0, 5),\n",
       " ('2012-11-03', '02', 0.0, 7.0, 1),\n",
       " ('2012-11-03', '02', 0.0, 7.0, 6),\n",
       " ('2012-11-03', '03', 0.0, 7.0, 5),\n",
       " ('2012-11-03', '04', 0.0, 8.0, None),\n",
       " ('2012-11-03', '05', 0.0, 8.0, 1),\n",
       " ('2012-11-03', '06', 0.0, 7.0, 1),\n",
       " ('2012-11-03', '07', 0.0, 6.0, 1),\n",
       " ('2012-11-03', '08', 0.0, 10.0, 1),\n",
       " ('2012-11-03', '08', 0.0, 10.0, 3),\n",
       " ('2012-11-03', '09', 0.0, 13.0, 1),\n",
       " ('2012-11-03', '09', 0.0, 13.0, 3),\n",
       " ('2012-11-03', '10', 0.0, 6.0, 1),\n",
       " ('2012-11-03', '10', 0.0, 6.0, 2),\n",
       " ('2012-11-03', '11', 0.0, 13.0, 8),\n",
       " ('2012-11-03', '12', 0.0, 13.0, 1),\n",
       " ('2012-11-03', '12', 0.0, 13.0, 3),\n",
       " ('2012-11-03', '13', 0.0, 8.0, 2),\n",
       " ('2012-11-03', '13', 0.0, 8.0, 3),\n",
       " ('2012-11-03', '14', 0.0, 8.0, 6),\n",
       " ('2012-11-03', '15', 0.0, 7.0, 3),\n",
       " ('2012-11-03', '15', 0.0, 7.0, 4),\n",
       " ('2012-11-03', '16', 0.0, 10.0, 2),\n",
       " ('2012-11-03', '16', 0.0, 10.0, 5),\n",
       " ('2012-11-03', '17', 0.0, 9.0, 6),\n",
       " ('2012-11-03', '17', 0.0, 9.0, 8),\n",
       " ('2012-11-03', '18', 0.0, 9.0, 6),\n",
       " ('2012-11-03', '19', 0.0, 13.0, 4),\n",
       " ('2012-11-03', '20', 0.0, 10.0, 4),\n",
       " ('2012-11-03', '20', 0.0, 10.0, 5),\n",
       " ('2012-11-03', '21', 0.0, 9.0, 4),\n",
       " ('2012-11-03', '21', 0.0, 9.0, 8),\n",
       " ('2012-11-03', '22', 0.0, 0.0, 3),\n",
       " ('2012-11-03', '22', 0.0, 0.0, 5),\n",
       " ('2012-11-03', '23', 0.0, 7.0, 7),\n",
       " ('2012-11-03', '23', 0.0, 7.0, 9),\n",
       " ('2012-11-04', '00', 0.0, 9.0, 6),\n",
       " ('2012-11-04', '00', 0.0, 9.0, 8),\n",
       " ('2012-11-04', '01', 0.0, 7.0, 6),\n",
       " ('2012-11-04', '01', 0.0, 7.0, 10),\n",
       " ('2012-11-04', '02', 0.0, 7.0, 2),\n",
       " ('2012-11-04', '02', 0.0, 7.0, 7),\n",
       " ('2012-11-04', '03', 0.0, 7.0, 1),\n",
       " ('2012-11-04', '03', 0.0, 7.0, 4),\n",
       " ('2012-11-04', '04', 0.0, 8.0, 2),\n",
       " ('2012-11-04', '04', 0.0, 8.0, 3),\n",
       " ('2012-11-04', '05', 0.0, 6.0, 1),\n",
       " ('2012-11-04', '06', 0.0, 6.0, None),\n",
       " ('2012-11-04', '07', 0.0, 3.0, 1),\n",
       " ('2012-11-04', '07', 0.0, 3.0, 2),\n",
       " ('2012-11-04', '08', 0.0, 7.0, 2),\n",
       " ('2012-11-04', '09', 0.0, 9.0, 1),\n",
       " ('2012-11-04', '09', 0.0, 9.0, 3),\n",
       " ('2012-11-04', '11', 0.0, 6.0, 5),\n",
       " ('2012-11-04', '12', 0.0, 8.0, 7),\n",
       " ('2012-11-04', '12', 0.0, 8.0, 8),\n",
       " ('2012-11-04', '13', 0.0, 8.0, 1),\n",
       " ('2012-11-04', '13', 0.0, 8.0, 4),\n",
       " ('2012-11-04', '14', 0.0, 7.0, 2),\n",
       " ('2012-11-04', '14', 0.0, 7.0, 3),\n",
       " ('2012-11-04', '15', 0.0, 7.0, 2),\n",
       " ('2012-11-04', '15', 0.0, 7.0, 4),\n",
       " ('2012-11-04', '16', 0.0, 5.0, 4),\n",
       " ('2012-11-04', '16', 0.0, 5.0, 6),\n",
       " ('2012-11-04', '17', 0.0, 5.0, 4),\n",
       " ('2012-11-04', '17', 0.0, 5.0, 6),\n",
       " ('2012-11-04', '19', 0.0, 7.0, 4),\n",
       " ('2012-11-04', '19', 0.0, 7.0, 5),\n",
       " ('2012-11-04', '21', 0.0, 7.0, 1),\n",
       " ('2012-11-04', '21', 0.0, 7.0, 2),\n",
       " ('2012-11-04', '22', 0.0, 6.0, 3),\n",
       " ('2012-11-04', '22', 0.0, 6.0, 5),\n",
       " ('2012-11-04', '23', 0.0, 5.0, 1),\n",
       " ('2012-11-05', '00', 0.0, 0.0, 1),\n",
       " ('2012-11-05', '01', 0.0, 5.0, 1),\n",
       " ('2012-11-05', '02', 0.0, 3.0, 2),\n",
       " ('2012-11-05', '03', 0.0, 7.0, None),\n",
       " ('2012-11-05', '04', 0.0, 3.0, 2),\n",
       " ('2012-11-05', '05', 0.0, 6.0, 1),\n",
       " ('2012-11-05', '06', 0.0, 8.0, 3),\n",
       " ('2012-11-05', '06', 0.0, 8.0, 7),\n",
       " ('2012-11-05', '07', 0.0, 6.0, 3),\n",
       " ('2012-11-05', '07', 0.0, 6.0, 4),\n",
       " ('2012-11-05', '08', 0.0, 7.0, 2),\n",
       " ('2012-11-05', '08', 0.0, 7.0, 4),\n",
       " ('2012-11-05', '09', 0.0, 3.0, 3),\n",
       " ('2012-11-05', '09', 0.0, 3.0, 6),\n",
       " ('2012-11-05', '10', 0.0, 3.0, 4),\n",
       " ('2012-11-05', '11', 0.0, 3.0, 1),\n",
       " ('2012-11-05', '11', 0.0, 3.0, 3),\n",
       " ('2012-11-05', '12', 0.0, 5.0, 3),\n",
       " ('2012-11-05', '12', 0.0, 5.0, 6),\n",
       " ('2012-11-05', '13', 0.0, 3.0, 1),\n",
       " ('2012-11-05', '13', 0.0, 3.0, 4),\n",
       " ('2012-11-05', '15', 0.0, 8.0, 1),\n",
       " ('2012-11-05', '15', 0.0, 8.0, 2),\n",
       " ('2012-11-05', '17', 0.0, 5.0, 5),\n",
       " ('2012-11-05', '17', 0.0, 5.0, 15),\n",
       " ('2012-11-05', '18', 0.0, 5.0, 6),\n",
       " ('2012-11-05', '18', 0.0, 5.0, 7),\n",
       " ('2012-11-05', '19', 0.0, 0.0, 4),\n",
       " ('2012-11-05', '19', 0.0, 0.0, 10),\n",
       " ('2012-11-05', '20', 0.0, 3.0, 3),\n",
       " ('2012-11-05', '20', 0.0, 3.0, 7),\n",
       " ('2012-11-05', '21', 0.0, 7.0, 5),\n",
       " ('2012-11-05', '21', 0.0, 7.0, 6),\n",
       " ('2012-11-05', '22', 0.0, 6.0, 2),\n",
       " ('2012-11-05', '22', 0.0, 6.0, 13),\n",
       " ('2012-11-05', '23', 0.0, 9.0, 1),\n",
       " ('2012-11-05', '23', 0.0, 9.0, 2),\n",
       " ('2012-11-06', '00', 0.0, 6.0, 2),\n",
       " ('2012-11-06', '00', 0.0, 6.0, 4),\n",
       " ('2012-11-06', '01', 0.0, 5.0, 1),\n",
       " ('2012-11-06', '02', 0.0, 8.0, 2),\n",
       " ('2012-11-06', '03', 0.0, 10.0, 1),\n",
       " ('2012-11-06', '04', 0.0, 6.0, 1),\n",
       " ('2012-11-06', '05', 0.0, 5.0, 2),\n",
       " ('2012-11-06', '06', 0.0, 7.0, 1),\n",
       " ('2012-11-06', '06', 0.0, 7.0, 5),\n",
       " ('2012-11-06', '07', 0.0, 7.0, 3),\n",
       " ('2012-11-06', '07', 0.0, 7.0, 4),\n",
       " ('2012-11-06', '08', 0.0, 8.0, 4),\n",
       " ('2012-11-06', '09', 0.0, 3.0, 3),\n",
       " ('2012-11-06', '10', 0.0, 6.0, 4),\n",
       " ('2012-11-06', '10', 0.0, 6.0, 6),\n",
       " ('2012-11-06', '11', 0.0, 7.0, 1),\n",
       " ('2012-11-06', '11', 0.0, 7.0, 9),\n",
       " ('2012-11-06', '12', 0.0, 5.0, 4),\n",
       " ('2012-11-06', '12', 0.0, 5.0, 5),\n",
       " ('2012-11-06', '13', 0.0, 0.0, 5),\n",
       " ('2012-11-06', '13', 0.0, 0.0, 7),\n",
       " ('2012-11-06', '14', 0.0, 6.0, 5),\n",
       " ('2012-11-06', '14', 0.0, 6.0, 7),\n",
       " ('2012-11-06', '15', 0.0, 6.0, 4),\n",
       " ('2012-11-06', '16', 0.0, 5.0, 4),\n",
       " ('2012-11-06', '16', 0.0, 5.0, 8),\n",
       " ('2012-11-06', '17', 0.0, 5.0, 5),\n",
       " ('2012-11-06', '17', 0.0, 5.0, 6),\n",
       " ('2012-11-06', '18', 0.0, 3.0, 5),\n",
       " ('2012-11-06', '18', 0.0, 3.0, 6),\n",
       " ('2012-11-06', '19', 0.0, 3.0, 7),\n",
       " ('2012-11-06', '19', 0.0, 3.0, 9),\n",
       " ('2012-11-06', '20', 0.0, 7.0, 3),\n",
       " ('2012-11-06', '20', 0.0, 7.0, 6),\n",
       " ('2012-11-06', '21', 0.0, 7.0, 2),\n",
       " ('2012-11-06', '21', 0.0, 7.0, 3),\n",
       " ('2012-11-06', '22', 0.0, 7.0, 4),\n",
       " ('2012-11-06', '22', 0.0, 7.0, 5),\n",
       " ('2012-11-06', '23', 0.0, 3.0, 3),\n",
       " ('2012-11-06', '23', 0.0, 3.0, 9)]"
      ]
     },
     "execution_count": 59,
     "metadata": {},
     "output_type": "execute_result"
    }
   ],
   "source": [
    "engine.execute(QUERY_6).fetchall()"
   ]
  },
  {
   "cell_type": "code",
   "execution_count": null,
   "id": "a2ef04df",
   "metadata": {
    "id": "a2ef04df"
   },
   "outputs": [],
   "source": [
    "write_query_to_file(QUERY_6, \"hurricane.sql\")"
   ]
  },
  {
   "cell_type": "markdown",
   "id": "a13ced42",
   "metadata": {
    "id": "a13ced42"
   },
   "source": [
    "## Part 4: Visualizing the Data\n",
    "\n",
    "_A checklist of requirements to keep you on track. Remove this whole cell before submitting the project. The order of these tasks aren't necessarily the order in which they need to be done. It's okay to do them in an order that makes sense to you._\n",
    "\n",
    "* [ ] Create an appropriate visualization for the first query/question in part 3\n",
    "* [ ] Create a visualization that shows the average distance traveled per month (regardless of year - so group by each month). Include the 90% confidence interval around the mean in the visualization\n",
    "* [ ] Define three lat/long coordinate boxes around the three major New York airports: LGA, JFK, and EWR (you can use bboxfinder to help). Create a visualization that compares what day of the week was most popular for drop offs for each airport.\n",
    "* [ ] Create a heatmap of all hired trips over a map of the area. Consider using KeplerGL or another library that helps generate geospatial visualizations.\n",
    "* [ ] Create a scatter plot that compares tip amount versus distance.\n",
    "* [ ] Create another scatter plot that compares tip amount versus precipitation amount.\n",
    "\n",
    "_Be sure these cells are executed so that the visualizations are rendered when the notebook is submitted._"
   ]
  },
  {
   "cell_type": "markdown",
   "id": "6d9eef42",
   "metadata": {
    "id": "6d9eef42"
   },
   "source": [
    "### Visualization N\n",
    "\n",
    "_**TODO:** Write some prose that tells the reader what you're about to do here._\n",
    "\n",
    "_Repeat for each visualization._\n",
    "\n",
    "_The example below makes use of the `matplotlib` library. There are other libraries, including `pandas` built-in plotting library, kepler for geospatial data representation, `seaborn`, and others._"
   ]
  },
  {
   "cell_type": "markdown",
   "id": "8165d11d",
   "metadata": {},
   "source": [
    "### Visualization 1"
   ]
  },
  {
   "cell_type": "code",
   "execution_count": null,
   "id": "14864644",
   "metadata": {},
   "outputs": [],
   "source": [
    "QUERY_4_1 = \"\"\"\n",
    "SELECT strftime ('%H',pickup_datetime) AS HOUR,\n",
    "COUNT(strftime ('%H',pickup_datetime)) AS NUMBERS\n",
    "FROM taxi_trips\n",
    "GROUP BY HOUR\n",
    "\"\"\"\n",
    "\n",
    "def get_data_for_visual_1():\n",
    "    df = pd.read_sql(QUERY_4_1, con = engine)\n",
    "    return df\n",
    "\n",
    "df = get_data_for_visual_1()\n",
    "\n",
    "def plot_visual_1(dataframe):\n",
    "    plt.bar(df['HOUR'],df['NUMBERS'])\n",
    "    plt.title('The hourly distribution of numbers of yellow taxi trips')\n",
    "    plt.xlabel('Hour of the day')\n",
    "    plt.ylabel('Number of yellow taxi trips')\n",
    "    return plt.show()"
   ]
  },
  {
   "cell_type": "code",
   "execution_count": null,
   "id": "baf9b49e",
   "metadata": {},
   "outputs": [
    {
     "data": {
      "image/png": "[encoded data removed]",
      "text/plain": [
       "<Figure size 640x480 with 1 Axes>"
      ]
     },
     "metadata": {},
     "output_type": "display_data"
    }
   ],
   "source": [
    "plot_visual_1(dataframe)"
   ]
  },
  {
   "cell_type": "markdown",
   "id": "ae711418",
   "metadata": {},
   "source": [
    "### Visualization 2"
   ]
  },
  {
   "cell_type": "code",
   "execution_count": null,
   "id": "f5aa8b9f",
   "metadata": {},
   "outputs": [
    {
     "data": {
      "image/png": "[encoded data removed]",
      "text/plain": [
       "<Figure size 640x480 with 1 Axes>"
      ]
     },
     "metadata": {},
     "output_type": "display_data"
    }
   ],
   "source": [
    "QUERY_4_2 = \"\"\"\n",
    "SELECT month,\n",
    "    total_trips,\n",
    "    AVG(avr_distance) as average_distance,\n",
    "    (count(distance)*sum(distance*distance) - (sum(distance)*sum(distance)))/((count(distance)-1)*(count(distance))) as variance\n",
    "    FROM \n",
    "    (SELECT \n",
    "    trip_distance AS distance,\n",
    "    strftime ('%m',pickup_datetime) AS month,\n",
    "    count(*) AS\ttotal_trips,\n",
    "    AVG(trip_distance) AS avr_distance\n",
    "    FROM \n",
    "    taxi_trips\n",
    "    GROUP BY \n",
    "    strftime ('%m',pickup_datetime)\n",
    "    UNION \n",
    "    SELECT \n",
    "    trip_distance AS distance,\n",
    "    strftime ('%m',pickup_datetime) AS month,\n",
    "    count(*) AS\ttotal_trips,\n",
    "    AVG(trip_distance) AS avr_distance\n",
    "    FROM \n",
    "    uber_trips\n",
    "    GROUP BY \n",
    "    strftime ('%m',pickup_datetime)\n",
    "    )trips\n",
    "    GROUP BY\n",
    "    trips.month\n",
    "\"\"\"\n",
    "\n",
    "def get_data_for_visual_2():\n",
    "    df = pd.read_sql(QUERY_4_2, con = engine)\n",
    "    return df\n",
    "\n",
    "df = get_data_for_visual_2()\n",
    "\n",
    "ci_lower = df['average_distance'] - 1.64 *np.sqrt(df['variance'])/np.sqrt(df[\"total_trips\"])\n",
    "ci_upper = df['average_distance'] + 1.64 *np.sqrt(df['variance'])/np.sqrt(df[\"total_trips\"])\n",
    "fig, ax = plt.subplots()\n",
    "x = df['month']\n",
    "ax.plot(x, df['average_distance'])\n",
    "ax.fill_between(x, ci_lower, ci_upper, color='b', alpha=.15)\n",
    "ax.set_ylim(ymin=2.5)\n",
    "ax.set_title('average distance traveled per month')\n",
    "fig.autofmt_xdate(rotation=45)"
   ]
  },
  {
   "cell_type": "markdown",
   "id": "19ba121e",
   "metadata": {},
   "source": [
    "### Visualization 3"
   ]
  },
  {
   "cell_type": "code",
   "execution_count": null,
   "id": "c71ac516",
   "metadata": {},
   "outputs": [],
   "source": [
    "JFK_BOX = [-73.825248, 40.620479, -73.746971, 40.666458]\n",
    "LGA_BOX = [-73.890716,40.767245,-73.854667,40.781415]\n",
    "EWR_BOX = [-74.192324,40.670659,-74.153185, 40.708601]"
   ]
  },
  {
   "cell_type": "code",
   "execution_count": null,
   "id": "4e539c27",
   "metadata": {},
   "outputs": [],
   "source": [
    "def plot_visual_3():\n",
    "    query_JFK = \"\"\"\n",
    "    SELECT day, COUNT(day) AS Trip_counts\n",
    "    FROM\n",
    "    (SELECT strftime('%w', pickup_datetime) AS day, dropoff_longitude, dropoff_latitude from taxi_trips\n",
    "    UNION ALL\n",
    "    SELECT strftime('%w', pickup_datetime) AS day, dropoff_longitude, dropoff_latitude from uber_trips)\n",
    "    WHERE dropoff_longitude BETWEEN -73.825248 AND -73.746971 AND dropoff_latitude BETWEEN 40.620479 AND 40.666458\n",
    "    GROUP BY day\n",
    "    ORDER BY Trip_counts\n",
    "    \"\"\"\n",
    "    query_LGA = \"\"\"\n",
    "    SELECT day, COUNT(day) AS Trip_counts\n",
    "    FROM\n",
    "    (SELECT strftime('%w', pickup_datetime) AS day, dropoff_longitude, dropoff_latitude from taxi_trips\n",
    "    UNION ALL\n",
    "    SELECT strftime('%w', pickup_datetime) AS day, dropoff_longitude, dropoff_latitude from uber_trips)\n",
    "    WHERE dropoff_longitude BETWEEN -73.890716 AND -73.854667 AND dropoff_latitude BETWEEN 40.767245 AND 40.781415\n",
    "    GROUP BY day\n",
    "    ORDER BY Trip_counts\n",
    "    \"\"\"\n",
    "\n",
    "    query_EWR = \"\"\"\n",
    "    SELECT day, COUNT(day) AS Trip_counts\n",
    "    FROM\n",
    "    (SELECT strftime('%w', pickup_datetime) AS day, dropoff_longitude, dropoff_latitude from taxi_trips\n",
    "    UNION ALL\n",
    "    SELECT strftime('%w', pickup_datetime) AS day, dropoff_longitude, dropoff_latitude from uber_trips)\n",
    "    WHERE dropoff_longitude BETWEEN -74.192324 AND -74.153185 AND dropoff_latitude BETWEEN 40.670659 AND 40.708601\n",
    "    GROUP BY day\n",
    "    ORDER BY Trip_counts\n",
    "    \"\"\"\n",
    "\n",
    "    df_JFK = pd.read_sql(query_JFK, con = engine)\n",
    "    df_LGA = pd.read_sql(query_LGA, con = engine)\n",
    "    df_EWR = pd.read_sql(query_EWR, con = engine)\n",
    "    \n",
    "    barWidth = 0.25\n",
    "    fig = plt.subplots(figsize =(12, 8))\n",
    "    br1 = np.arange(len(df_JFK['day']))\n",
    "    br2 = [x + barWidth for x in br1]\n",
    "    br3 = [x + barWidth for x in br2]\n",
    "\n",
    "    plt.bar(br1, df_JFK['Trip_counts'], color ='r', width = barWidth,\n",
    "            edgecolor ='grey', label ='JFK')\n",
    "    plt.bar(br2, df_LGA['Trip_counts'], color ='g', width = barWidth,\n",
    "            edgecolor ='grey', label ='LGA')\n",
    "    plt.bar(br3, df_EWR['Trip_counts'], color ='b', width = barWidth,\n",
    "            edgecolor ='grey', label ='EWR')\n",
    "\n",
    "    # Adding Xticks\n",
    "    plt.xlabel('Days in Week', fontweight ='bold', fontsize = 15)\n",
    "    plt.ylabel('Trip_counts', fontweight ='bold', fontsize = 15)\n",
    "\n",
    "    plt.legend()\n",
    "    plt.show()"
   ]
  },
  {
   "cell_type": "code",
   "execution_count": null,
   "id": "4190c72a",
   "metadata": {},
   "outputs": [
    {
     "data": {
      "image/png": "[encoded data removed]",
      "text/plain": [
       "<Figure size 1200x800 with 1 Axes>"
      ]
     },
     "metadata": {},
     "output_type": "display_data"
    }
   ],
   "source": [
    "plot_visual_3()"
   ]
  },
  {
   "cell_type": "markdown",
   "id": "940c5682",
   "metadata": {},
   "source": [
    "### Visualization 4"
   ]
  },
  {
   "cell_type": "code",
   "execution_count": null,
   "id": "3bd45c98",
   "metadata": {},
   "outputs": [
    {
     "name": "stdout",
     "output_type": "stream",
     "text": [
      "User Guide: https://docs.kepler.gl/docs/keplergl-jupyter\n"
     ]
    },
    {
     "data": {
      "application/vnd.jupyter.widget-view+json": {
       "model_id": "44a24475d160426b9b5176b4214b880e",
       "version_major": 2,
       "version_minor": 0
      },
      "text/plain": [
       "KeplerGl(data={'heatmap': {'index': [0, 1, 2, 3, 4, 5, 6, 7, 8, 9, 10, 11, 12, 13, 14, 15, 16, 17, 18, 19, 20,…"
      ]
     },
     "metadata": {},
     "output_type": "display_data"
    }
   ],
   "source": [
    "get_map = KeplerGl(height = 500)\n",
    "get_map.add_data(uber_data, name = \"heatmap\")\n",
    "get_map.add_data(taxi_data, name = \"heatmap\")\n",
    "get_map"
   ]
  },
  {
   "cell_type": "markdown",
   "id": "3b4bf418",
   "metadata": {},
   "source": [
    "### Visualization 5"
   ]
  },
  {
   "cell_type": "code",
   "execution_count": null,
   "id": "e893f56c",
   "metadata": {},
   "outputs": [],
   "source": [
    "def plot_visual_5():\n",
    "    query_visual_5 = \"\"\"\n",
    "    SELECT tip_amount, trip_distance FROM taxi_trips\n",
    "    \"\"\"\n",
    "\n",
    "    df_tip_distance = pd.read_sql(query_visual_5, con = engine)\n",
    "    plt.scatter(x = df_tip_distance['tip_amount'], y = df_tip_distance['trip_distance'])\n",
    "    plt.xlabel('tip_amount') \n",
    "    plt.ylabel('trip_distance') \n",
    "    plt.title('tip_amount vs. trip_distance')\n",
    "    plt.show()"
   ]
  },
  {
   "cell_type": "code",
   "execution_count": null,
   "id": "68fc651a",
   "metadata": {},
   "outputs": [
    {
     "data": {
      "image/png": "[encoded data removed]",
      "text/plain": [
       "<Figure size 640x480 with 1 Axes>"
      ]
     },
     "metadata": {},
     "output_type": "display_data"
    }
   ],
   "source": [
    "plot_visual_5()"
   ]
  },
  {
   "cell_type": "markdown",
   "id": "54514d33",
   "metadata": {},
   "source": [
    "### Visualization 6"
   ]
  },
  {
   "cell_type": "code",
   "execution_count": null,
   "id": "5c6df4a6",
   "metadata": {},
   "outputs": [],
   "source": [
    "def plot_visual_6():\n",
    "    query_taxi =\"\"\"SELECT strftime('%Y-%m-%d %H', pickup_datetime) AS DATE, tip_amount\n",
    "            FROM taxi_trips\n",
    "            \"\"\" \n",
    "    query_weather =\"\"\"SELECT strftime('%Y-%m-%d %H', DATE) AS DATE, HourlyPrecipitation\n",
    "            FROM hourly_weathers\n",
    "            \"\"\"\n",
    "\n",
    "    taxi_data = pd.read_sql_query(query_taxi, con = engine)\n",
    "    weather_data = pd.read_sql_query(query_weather, con = engine)\n",
    "    \n",
    "    taxi_data['DATE'] = pd.to_datetime(taxi_data['DATE'], format='%Y-%m-%d %H')\n",
    "    weather_data['DATE'] = pd.to_datetime(weather_data['DATE'], format='%Y-%m-%d %H')\n",
    "\n",
    "    df = pd.merge(taxi_data, weather_data, on='DATE')\n",
    "    df = df[(df['HourlyPrecipitation'] > 0) & (df['tip_amount'] < 50)]\n",
    "    \n",
    "    # sample the data to make the scatter plot clearer\n",
    "    df.plot(x=\"HourlyPrecipitation\", y=\"tip_amount\", kind=\"scatter\", title=\"tip_amount vs. Precipitation\")"
   ]
  },
  {
   "cell_type": "code",
   "execution_count": null,
   "id": "83224dba",
   "metadata": {},
   "outputs": [
    {
     "data": {
      "image/png": "[encoded data removed]",
      "text/plain": [
       "<Figure size 640x480 with 1 Axes>"
      ]
     },
     "metadata": {},
     "output_type": "display_data"
    }
   ],
   "source": [
    "plot_visual_6()"
   ]
  },
  {
   "cell_type": "markdown",
   "id": "24ac9ae9",
   "metadata": {},
   "source": [
    "### Creating animation of our visualization 1 in part 4"
   ]
  },
  {
   "cell_type": "code",
   "execution_count": null,
   "id": "2e0aa518",
   "metadata": {},
   "outputs": [
    {
     "data": {
      "text/plain": [
       "<matplotlib.animation.FuncAnimation at 0x2276bcad3a0>"
      ]
     },
     "execution_count": 74,
     "metadata": {},
     "output_type": "execute_result"
    },
    {
     "data": {
      "image/png": "[encoded data removed]",
      "text/plain": [
       "<Figure size 640x480 with 1 Axes>"
      ]
     },
     "metadata": {},
     "output_type": "display_data"
    }
   ],
   "source": [
    "# read the data of QUERY_1 in part 3\n",
    "df = pd.read_sql_query(QUERY_1, engine).sort_values(by=\"HOUR\", ascending=True)\n",
    "df.index = df['HOUR']\n",
    "\n",
    "def generate_data():\n",
    "    for i in range(24):\n",
    "        yield int(df['HOUR'][i]), int(df['Trip_counts'][i])\n",
    "\n",
    "# initialize the plot\n",
    "fig, ax = plt.subplots()\n",
    "line, = ax.plot([], [], lw=2)\n",
    "ax.grid()\n",
    "x_data = []\n",
    "y_data = []\n",
    "\n",
    "# create a function that initializes the plot\n",
    "def initialization():\n",
    "    ax.set_ylim(0, 13000)\n",
    "    ax.set_xlim(0, 23)\n",
    "    ax.set_xlabel('Hour')\n",
    "    ax.set_ylabel('Trip counts')\n",
    "    ax.set_title('Trip counts of Each Hour of the Day')\n",
    "    del x_data[:]\n",
    "    del y_data[:]\n",
    "    line.set_data(x_data, y_data)\n",
    "    return line\n",
    "\n",
    "# create a function that updates the data of each hour\n",
    "def update(data: tuple):\n",
    "    x, y = data\n",
    "    x_data.append(x)\n",
    "    y_data.append(y)\n",
    "    line.set_data(x_data, y_data)\n",
    "    return line\n",
    "\n",
    "animation.FuncAnimation(fig, update, generate_data, interval=23,\n",
    "                            repeat=False, init_func=initialization)"
   ]
  },
  {
   "cell_type": "markdown",
   "id": "2afdd4d9",
   "metadata": {},
   "source": [
    "### Creating visualization of sunrise-sunset data"
   ]
  },
  {
   "cell_type": "markdown",
   "id": "b4909070",
   "metadata": {},
   "source": [
    "For this part of extra credit, we design a question:\n",
    "\n",
    "What is the average tip amount of yellow taxi trips at day(during the time between sunrise and sunset) and at night(during the time between sunset and sunrise)?\n",
    "\n",
    "To answer this question, we make a bar chart show the average tip amount of yellow taxi trips at day and at night."
   ]
  },
  {
   "cell_type": "code",
   "execution_count": null,
   "id": "8142f2b0",
   "metadata": {},
   "outputs": [],
   "source": [
    "def plot_visual_sunrise_sunset():\n",
    "    query_tip_amount = \"\"\"\n",
    "    SELECT date(pickup_datetime) AS DATE, pickup_datetime, tip_amount FROM taxi_trips\n",
    "    \"\"\"\n",
    "    query_sun = \"\"\"\n",
    "    SELECT date(DATE) AS DATE, Sunrise, Sunset FROM sunrise_sunsets\n",
    "    \"\"\"\n",
    "\n",
    "    tip_df = pd.read_sql_query(query_tip_amount, con = engine)\n",
    "    sunrise_sunset_df = pd.read_sql_query(query_sun, con = engine)\n",
    "\n",
    "    # convert the date to datetime\n",
    "    tip_df['DATE'] = pd.to_datetime(tip_df['DATE'], format='%Y-%m-%d')\n",
    "    tip_df['pickup_datetime']=[i.replace('UTC','') for i in tip_df['pickup_datetime']]\n",
    "    tip_df['pickup_datetime'] = pd.to_datetime(tip_df['pickup_datetime'], format='%Y-%m-%d %H:%M:%S')\n",
    "    sunrise_sunset_df['DATE'] = pd.to_datetime(sunrise_sunset_df['DATE'], format='%Y-%m-%d')\n",
    "\n",
    "    # merge the two dataframes\n",
    "    df = pd.merge(tip_df, sunrise_sunset_df, on='DATE')    \n",
    "\n",
    "    # calculate the minutes using hour and minute\n",
    "    df['Sunrise_minutes'] = df['Sunrise'].map(lambda x: int(str(x)[0]) * 60 + int(str(x)[1:]))\n",
    "    df['Sunset_minutes'] = df['Sunset'].map(lambda x: int(str(x)[:2]) * 60 + int(str(x)[2:]))\n",
    "    df['pickup_datetime_minutes'] = df['pickup_datetime'].map(lambda x: x.hour * 60 + x.minute)\n",
    "\n",
    "    # find the trips that started during the day\n",
    "    df['day'] = (df['pickup_datetime_minutes'] > df['Sunrise_minutes']) & (df['pickup_datetime_minutes'] < df['Sunset_minutes'])\n",
    "\n",
    "    # Calculate the average tip amount during day and night\n",
    "    tip_amount_day = []\n",
    "    tip_amount_night = []\n",
    "    for i in range(len(df.index)):\n",
    "        if df['day'][i] == True:\n",
    "            tip_amount_day.append(df[\"tip_amount\"][i])\n",
    "        else:\n",
    "            tip_amount_night.append(df[\"tip_amount\"][i])\n",
    "\n",
    "    average_tip_day = statistics.mean(tip_amount_day)\n",
    "    average_tip_night = statistics.mean(tip_amount_night)\n",
    "    #plot a bar chart with average tip in day compared to in night\n",
    "    plt.bar(['average_tip_day', 'average_tip_night'], [average_tip_day, average_tip_night], color ='maroon')\n",
    "    plt.title('Average tip amount at day and at night')"
   ]
  },
  {
   "cell_type": "code",
   "execution_count": null,
   "id": "c6c04c5f",
   "metadata": {},
   "outputs": [],
   "source": [
    "plot_visual_sunrise_sunset()"
   ]
  },
  {
   "cell_type": "code",
   "execution_count": null,
   "id": "6463d6d2",
   "metadata": {},
   "outputs": [],
   "source": []
  }
 ],
 "metadata": {
  "colab": {
   "provenance": [],
   "toc_visible": true
  },
  "kernelspec": {
   "display_name": "Python 3 (ipykernel)",
   "language": "python",
   "name": "python3"
  },
  "language_info": {
   "codemirror_mode": {
    "name": "ipython",
    "version": 3
   },
   "file_extension": ".py",
   "mimetype": "text/x-python",
   "name": "python",
   "nbconvert_exporter": "python",
   "pygments_lexer": "ipython3",
   "version": "3.10.9"
  }
 },
 "nbformat": 4,
 "nbformat_minor": 5
}
